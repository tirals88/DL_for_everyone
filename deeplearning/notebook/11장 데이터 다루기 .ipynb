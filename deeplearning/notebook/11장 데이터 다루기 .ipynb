{
  "nbformat": 4,
  "nbformat_minor": 0,
  "metadata": {
    "colab": {
      "provenance": [],
      "collapsed_sections": [
        "mSvnn-ZWd9ef",
        "UhcQBmxwO5Vm"
      ],
      "include_colab_link": true
    },
    "kernelspec": {
      "name": "python3",
      "display_name": "Python 3"
    },
    "language_info": {
      "name": "python"
    }
  },
  "cells": [
    {
      "cell_type": "markdown",
      "metadata": {
        "id": "view-in-github",
        "colab_type": "text"
      },
      "source": [
        "<a href=\"https://colab.research.google.com/github/tirals88/DL_for_everyone/blob/main/deeplearning/notebook/11%EC%9E%A5%20%EB%8D%B0%EC%9D%B4%ED%84%B0%20%EB%8B%A4%EB%A3%A8%EA%B8%B0%20.ipynb\" target=\"_parent\"><img src=\"https://colab.research.google.com/assets/colab-badge.svg\" alt=\"Open In Colab\"/></a>"
      ]
    },
    {
      "cell_type": "markdown",
      "source": [
        "'모두의 딥러닝' 책 스터디 내용을 jupyter notebook으로 정리하여 올립니다.\n",
        "\n",
        "Github 주소 : 'https://github.com/gilbutITbook/080228'\n",
        "\n",
        "**모두의 딥러닝**"
      ],
      "metadata": {
        "id": "WdeE-kzODzDl"
      }
    },
    {
      "cell_type": "markdown",
      "source": [
        "# 11 장 데이터 다루기\n",
        "\n",
        "모든 딥러닝 실습은 데이터를 분석하고 조사하는 것 부터 시작한다.\n",
        "\n",
        "이번에는 '피마 인디언들을 대상으로 당뇨병 여부를 측정한 데이터'를 다룰 것이다.\n",
        "\n",
        "- 샘플 수 : 768\n",
        "- 속성 : 8 가지\n",
        "- 1. (pregnant) : 과거 임신 횟수\n",
        "- 2. (plasma) : 포도당 부하 검사 2시간 후 공복 혈당 농도(mm Hg)\n",
        "- 3. (pressure) : 확장기 혈압 (mm Hg)\n",
        "- 4. (thickness) : 삼두근 피부 주름 두께 (mm)\n",
        "- 5. (insulin) : 혈청 인슐린(2-hour, mu U/ml)\n",
        "- 6. (BMI): 체질량 지수(BMI, weight in kg/(height in m)$^{2}$)\n",
        "- 7. (pedigree) : 당뇨병 가족력\n",
        "- 8. (age) : 나이\n",
        "\n",
        "- 클래스 : 당뇨(1) / 당뇨 아님(0)"
      ],
      "metadata": {
        "id": "mSvnn-ZWd9ef"
      }
    },
    {
      "cell_type": "code",
      "source": [
        "# 피마 인디언, 당뇨병 여부 데이터\n",
        "# pandas 를 이용해 데이터 받아오기\n",
        "\n",
        "import pandas as pd\n",
        "df = pd.read_csv(\"https://raw.githubusercontent.com/gilbutITbook/080228/master/deeplearning/dataset/pima-indians-diabetes.csv\", names = [\"pregnant\", \"plasma\", \"pressure\", \"thickness\",\n",
        "                                                                                                                                            \"insulin\", \"BMI\", \"pedigree\", \"age\", \"class\"])\n",
        "\n",
        "# csv 파일에는 데이터를 설명하는 한 줄이 파일 맨 처음에 나온다.\n",
        "# 하지만 이 파일에는 없기 때문에 names 라는 함수를 통해 속성별 키워드를 지정해주었다.\n",
        "\n",
        "# 데이터 10개 불러오기\n",
        "print(df.head(10))"
      ],
      "metadata": {
        "id": "eKROL3263FGD",
        "outputId": "d63c85c9-068e-40e0-99b0-7255c03db408",
        "colab": {
          "base_uri": "https://localhost:8080/"
        }
      },
      "execution_count": 1,
      "outputs": [
        {
          "output_type": "stream",
          "name": "stdout",
          "text": [
            "   pregnant  plasma  pressure  thickness  insulin   BMI  pedigree  age  class\n",
            "0         6     148        72         35        0  33.6     0.627   50      1\n",
            "1         1      85        66         29        0  26.6     0.351   31      0\n",
            "2         8     183        64          0        0  23.3     0.672   32      1\n",
            "3         1      89        66         23       94  28.1     0.167   21      0\n",
            "4         0     137        40         35      168  43.1     2.288   33      1\n",
            "5         5     116        74          0        0  25.6     0.201   30      0\n",
            "6         3      78        50         32       88  31.0     0.248   26      1\n",
            "7        10     115         0          0        0  35.3     0.134   29      0\n",
            "8         2     197        70         45      543  30.5     0.158   53      1\n",
            "9         8     125        96          0        0   0.0     0.232   54      1\n"
          ]
        }
      ]
    },
    {
      "cell_type": "code",
      "source": [
        "# 전반적인 정보\n",
        "print(df.info())"
      ],
      "metadata": {
        "id": "XzU1QrH6z4vx",
        "outputId": "d29cd59c-06e5-4b71-a4d9-ce95b73257af",
        "colab": {
          "base_uri": "https://localhost:8080/"
        }
      },
      "execution_count": 2,
      "outputs": [
        {
          "output_type": "stream",
          "name": "stdout",
          "text": [
            "<class 'pandas.core.frame.DataFrame'>\n",
            "RangeIndex: 768 entries, 0 to 767\n",
            "Data columns (total 9 columns):\n",
            " #   Column     Non-Null Count  Dtype  \n",
            "---  ------     --------------  -----  \n",
            " 0   pregnant   768 non-null    int64  \n",
            " 1   plasma     768 non-null    int64  \n",
            " 2   pressure   768 non-null    int64  \n",
            " 3   thickness  768 non-null    int64  \n",
            " 4   insulin    768 non-null    int64  \n",
            " 5   BMI        768 non-null    float64\n",
            " 6   pedigree   768 non-null    float64\n",
            " 7   age        768 non-null    int64  \n",
            " 8   class      768 non-null    int64  \n",
            "dtypes: float64(2), int64(7)\n",
            "memory usage: 54.1 KB\n",
            "None\n"
          ]
        }
      ]
    },
    {
      "cell_type": "code",
      "source": [
        "# 좀 더 자세한 정보\n",
        "# 데이터 통계자료\n",
        "print(df.describe())"
      ],
      "metadata": {
        "id": "qFKTd9Sk0GqZ",
        "outputId": "fe8c947a-65a5-437f-8549-d695983bb634",
        "colab": {
          "base_uri": "https://localhost:8080/"
        }
      },
      "execution_count": 3,
      "outputs": [
        {
          "output_type": "stream",
          "name": "stdout",
          "text": [
            "         pregnant      plasma    pressure   thickness     insulin         BMI  \\\n",
            "count  768.000000  768.000000  768.000000  768.000000  768.000000  768.000000   \n",
            "mean     3.845052  120.894531   69.105469   20.536458   79.799479   31.992578   \n",
            "std      3.369578   31.972618   19.355807   15.952218  115.244002    7.884160   \n",
            "min      0.000000    0.000000    0.000000    0.000000    0.000000    0.000000   \n",
            "25%      1.000000   99.000000   62.000000    0.000000    0.000000   27.300000   \n",
            "50%      3.000000  117.000000   72.000000   23.000000   30.500000   32.000000   \n",
            "75%      6.000000  140.250000   80.000000   32.000000  127.250000   36.600000   \n",
            "max     17.000000  199.000000  122.000000   99.000000  846.000000   67.100000   \n",
            "\n",
            "         pedigree         age       class  \n",
            "count  768.000000  768.000000  768.000000  \n",
            "mean     0.471876   33.240885    0.348958  \n",
            "std      0.331329   11.760232    0.476951  \n",
            "min      0.078000   21.000000    0.000000  \n",
            "25%      0.243750   24.000000    0.000000  \n",
            "50%      0.372500   29.000000    0.000000  \n",
            "75%      0.626250   41.000000    1.000000  \n",
            "max      2.420000   81.000000    1.000000  \n"
          ]
        }
      ]
    },
    {
      "cell_type": "code",
      "source": [
        "# 데이터의 일부 컬럼만 따로 확인\n",
        "print(df[['pregnant', 'class']])"
      ],
      "metadata": {
        "id": "cXzfcWUz0fd-",
        "outputId": "231a35c2-86c0-4fb9-ec12-ba6da3022624",
        "colab": {
          "base_uri": "https://localhost:8080/"
        }
      },
      "execution_count": 4,
      "outputs": [
        {
          "output_type": "stream",
          "name": "stdout",
          "text": [
            "     pregnant  class\n",
            "0           6      1\n",
            "1           1      0\n",
            "2           8      1\n",
            "3           1      0\n",
            "4           0      1\n",
            "..        ...    ...\n",
            "763        10      0\n",
            "764         2      0\n",
            "765         5      0\n",
            "766         1      1\n",
            "767         1      0\n",
            "\n",
            "[768 rows x 2 columns]\n"
          ]
        }
      ]
    },
    {
      "cell_type": "markdown",
      "source": [
        "## 데이터 가공하기\n",
        "\n",
        "이러한 많은 값을 단순히 나열하는 것은 한눈에 들어오지 않는다.\n",
        "\n",
        "데이터를 잘 다루기 위해서 데이터를 한 번 더 가공해야 하며 무엇을 위해 작업하는 지 목적을 제대로 알아야 한다.\n",
        "\n",
        "이 프로젝트의 목적은 **당뇨병 발병 예측**이며, 모든 정보들이 당뇨병 발병과 어떤 관계가 있는지를 중점에 놓아야한다."
      ],
      "metadata": {
        "id": "crP4NUqmUTe8"
      }
    },
    {
      "cell_type": "code",
      "source": [
        "print(df[['pregnant', 'class']].groupby(['pregnant'], as_index=False).mean().sort_values(by='pregnant', ascending=True))"
      ],
      "metadata": {
        "id": "UveyskIh1WUq",
        "outputId": "cd92cb6e-7d04-468f-e59d-e35f59a61582",
        "colab": {
          "base_uri": "https://localhost:8080/"
        }
      },
      "execution_count": 5,
      "outputs": [
        {
          "output_type": "stream",
          "name": "stdout",
          "text": [
            "    pregnant     class\n",
            "0          0  0.342342\n",
            "1          1  0.214815\n",
            "2          2  0.184466\n",
            "3          3  0.360000\n",
            "4          4  0.338235\n",
            "5          5  0.368421\n",
            "6          6  0.320000\n",
            "7          7  0.555556\n",
            "8          8  0.578947\n",
            "9          9  0.642857\n",
            "10        10  0.416667\n",
            "11        11  0.636364\n",
            "12        12  0.444444\n",
            "13        13  0.500000\n",
            "14        14  1.000000\n",
            "15        15  1.000000\n",
            "16        17  1.000000\n"
          ]
        }
      ]
    },
    {
      "cell_type": "markdown",
      "source": [
        "앞서 살펴본 임신 회수와 당뇨병 발병 확률을 계산한 것으로 추가로 **groupby()** 함수를 사용하였다.\n",
        "\n",
        "- 먼저 groupby()를 통해 pregnant 정보를 기준으로 하는 새 그룹을 생성한다.\n",
        "\n",
        "- as_index=False : pregnant 정보 옆에 새로운 인덱스를 만들어준다. ( True 로 놓아도 똑같이 나오긴 한다.)\n",
        "\n",
        "- mean() 함수를 통해 평균을 구한다.\n",
        "\n",
        "- sort_values() 함수를 써서 pregnant 컬럼을 오름차순 (ascending)으로 정리하게끔 설정한다.\n",
        "\n"
      ],
      "metadata": {
        "id": "d41e8Oz31ufA"
      }
    },
    {
      "cell_type": "markdown",
      "source": [
        "## matplotlib를 이용해 그래프로 표현하기\n",
        "\n",
        "잘 정리된 테이블도 그래프로 표현하면 더욱 파악하기 쉽다.\n",
        "\n",
        "maptlotlib 와 이를 기반으로 좀 더 정교한 그래프를 그리게끔 도와주는 seaborn 라이브러리를 사용해 각 정보끼리 어떤 상관관계가 있는지를 알아볼 수 있다.\n"
      ],
      "metadata": {
        "id": "GZZXs6qajawa"
      }
    },
    {
      "cell_type": "code",
      "source": [
        "import matplotlib.pyplot as plt\n",
        "import seaborn as sns\n",
        "\n",
        "plt.figure(figsize=(10,10))\n",
        "\n",
        "# heatmap() 함수는 두 항목씩 짝을 지은 뒤 각각 어떤 패턴으로 변화하는지를 관찰하는 함수\n",
        "# 두 항목이 전혀 다른 패턴으로 변화하고 있으면 0을, 서로 비슷한 패턴으로 변할수록 1에 가까운 값을 출력\n",
        "sns.heatmap(df.corr(), linewidths=.1, vmax=.6, cmap=plt.cm.gist_heat, linecolor='white', annot=True)\n",
        "\n",
        "# vmax 는 색상의 밝기를 조절\n",
        "# cmap 은 미리 정해진 matplotlib 색상의 설정값을 불러옮\n",
        "# annot 은 각 cell 의 값을 표기유무 / fmt='.3f' 와 같이 데이터 형태 지정 가능 (d=정수 / .2f 소수점 2째자리까지)"
      ],
      "metadata": {
        "id": "nBW2GcZumTLG",
        "colab": {
          "base_uri": "https://localhost:8080/",
          "height": 615
        },
        "outputId": "87fa7a2f-b3bb-4efd-9aff-2df0aa90e7a5"
      },
      "execution_count": 6,
      "outputs": [
        {
          "output_type": "execute_result",
          "data": {
            "text/plain": [
              "<AxesSubplot:>"
            ]
          },
          "metadata": {},
          "execution_count": 6
        },
        {
          "output_type": "display_data",
          "data": {
            "text/plain": [
              "<Figure size 720x720 with 2 Axes>"
            ],
            "image/png": "[encoded data removed]"
          },
          "metadata": {
            "needs_background": "light"
          }
        }
      ]
    },
    {
      "cell_type": "code",
      "source": [
        "# 데이터간 상관관계\n",
        "print(df.corr())"
      ],
      "metadata": {
        "id": "UPkkJkVI5F0H",
        "outputId": "9b26391a-d3d8-487c-8951-02b5843347d9",
        "colab": {
          "base_uri": "https://localhost:8080/"
        }
      },
      "execution_count": 11,
      "outputs": [
        {
          "output_type": "stream",
          "name": "stdout",
          "text": [
            "           pregnant    plasma  pressure  thickness   insulin       BMI  \\\n",
            "pregnant   1.000000  0.129459  0.141282  -0.081672 -0.073535  0.017683   \n",
            "plasma     0.129459  1.000000  0.152590   0.057328  0.331357  0.221071   \n",
            "pressure   0.141282  0.152590  1.000000   0.207371  0.088933  0.281805   \n",
            "thickness -0.081672  0.057328  0.207371   1.000000  0.436783  0.392573   \n",
            "insulin   -0.073535  0.331357  0.088933   0.436783  1.000000  0.197859   \n",
            "BMI        0.017683  0.221071  0.281805   0.392573  0.197859  1.000000   \n",
            "pedigree  -0.033523  0.137337  0.041265   0.183928  0.185071  0.140647   \n",
            "age        0.544341  0.263514  0.239528  -0.113970 -0.042163  0.036242   \n",
            "class      0.221898  0.466581  0.065068   0.074752  0.130548  0.292695   \n",
            "\n",
            "           pedigree       age     class  \n",
            "pregnant  -0.033523  0.544341  0.221898  \n",
            "plasma     0.137337  0.263514  0.466581  \n",
            "pressure   0.041265  0.239528  0.065068  \n",
            "thickness  0.183928 -0.113970  0.074752  \n",
            "insulin    0.185071 -0.042163  0.130548  \n",
            "BMI        0.140647  0.036242  0.292695  \n",
            "pedigree   1.000000  0.033561  0.173844  \n",
            "age        0.033561  1.000000  0.238356  \n",
            "class      0.173844  0.238356  1.000000  \n"
          ]
        }
      ]
    },
    {
      "cell_type": "code",
      "source": [
        "# heatmap 에서 당뇨병 발병 여부를 가리키는 class 항목을 봐야함\n",
        "# plasma 항목(공복 혈당 농도) / 가장 높은 상관관계\n",
        "\n",
        "# class 값을 기준으로 히스토그램 생성\n",
        "grid = sns.FacetGrid(df, col='class')\n",
        "# bins : 구간(막대) 개수 / \n",
        "grid.map(plt.hist, 'plasma', bins=10)\n",
        "plt.show()"
      ],
      "metadata": {
        "id": "ei_KpvRkHbOB",
        "outputId": "ab3ff76e-5de1-4c7f-af0e-d41cb1984ea3",
        "colab": {
          "base_uri": "https://localhost:8080/",
          "height": 225
        }
      },
      "execution_count": 23,
      "outputs": [
        {
          "output_type": "display_data",
          "data": {
            "text/plain": [
              "<Figure size 432x216 with 2 Axes>"
            ],
            "image/png": "[encoded data removed]"
          },
          "metadata": {
            "needs_background": "light"
          }
        }
      ]
    },
    {
      "cell_type": "markdown",
      "source": [
        "이 그래프를 통해 당노병 환자의 경우(class=1) plasma 항목의 수치가 150 이상인 경우가 많다는 것을 알 수 있다.\n",
        "\n",
        "이러하듯 결과에 미치는 영향이 큰 항목을 발견하는 것이 '데이터 전처리 과정'의 한 예이다."
      ],
      "metadata": {
        "id": "KcLgW1K_Iqx3"
      }
    },
    {
      "cell_type": "code",
      "source": [
        "# 피마 인디언의 당뇨병 예측 전체 코드\n",
        "\n",
        "from tensorflow.keras.models import Sequential\n",
        "from tensorflow.keras.layers import Dense\n",
        "import numpy as np\n",
        "import tensorflow as tf\n",
        "\n",
        "# seed 값 생성\n",
        "np.random.seed(3)\n",
        "tf.random.set_seed(3)\n",
        "\n",
        "# 데이터 로드\n",
        "dataset = np.loadtxt(\"https://raw.githubusercontent.com/gilbutITbook/080228/master/deeplearning/dataset/pima-indians-diabetes.csv\", delimiter=\",\")\n",
        "X = dataset[:, 0:8]\n",
        "Y = dataset[:, 8]\n",
        "\n",
        "# 모델 설정\n",
        "model = Sequential()\n",
        "model.add(Dense(12, input_dim=8, activation='relu'))\n",
        "model.add(Dense(8, activation='relu'))\n",
        "model.add(Dense(1, activation='sigmoid'))\n",
        "\n",
        "# 모델 컴파일\n",
        "model.compile(loss='binary_crossentropy',\n",
        "              optimizer='adam',\n",
        "              metrics=['accuracy'])\n",
        "\n",
        "# 모델 실행\n",
        "model.fit(X, Y, epochs=200, batch_size=10)\n",
        "\n",
        "# 결과 출력\n",
        "print(\"\\n Accuracy: %.4f\" % (model.evaluate(X, Y)[1]))"
      ],
      "metadata": {
        "id": "6EMLSU-THB8d",
        "outputId": "c07aac40-1877-4edb-fbbc-e7f3477f7f09",
        "colab": {
          "base_uri": "https://localhost:8080/"
        }
      },
      "execution_count": 26,
      "outputs": [
        {
          "output_type": "stream",
          "name": "stdout",
          "text": [
            "Epoch 1/200\n",
            "77/77 [==============================] - 1s 3ms/step - loss: 2.6815 - accuracy: 0.6042\n",
            "Epoch 2/200\n",
            "77/77 [==============================] - 0s 3ms/step - loss: 1.1579 - accuracy: 0.5664\n",
            "Epoch 3/200\n",
            "77/77 [==============================] - 0s 3ms/step - loss: 1.0281 - accuracy: 0.6094\n",
            "Epoch 4/200\n",
            "77/77 [==============================] - 0s 2ms/step - loss: 0.8910 - accuracy: 0.6380\n",
            "Epoch 5/200\n",
            "77/77 [==============================] - 0s 3ms/step - loss: 0.8499 - accuracy: 0.6302\n",
            "Epoch 6/200\n",
            "77/77 [==============================] - 0s 2ms/step - loss: 0.7958 - accuracy: 0.6471\n",
            "Epoch 7/200\n",
            "77/77 [==============================] - 0s 2ms/step - loss: 0.7570 - accuracy: 0.6276\n",
            "Epoch 8/200\n",
            "77/77 [==============================] - 0s 2ms/step - loss: 0.7303 - accuracy: 0.6354\n",
            "Epoch 9/200\n",
            "77/77 [==============================] - 0s 3ms/step - loss: 0.7032 - accuracy: 0.6497\n",
            "Epoch 10/200\n",
            "77/77 [==============================] - 0s 3ms/step - loss: 0.6895 - accuracy: 0.6367\n",
            "Epoch 11/200\n",
            "77/77 [==============================] - 0s 2ms/step - loss: 0.6621 - accuracy: 0.6576\n",
            "Epoch 12/200\n",
            "77/77 [==============================] - 0s 3ms/step - loss: 0.6552 - accuracy: 0.6602\n",
            "Epoch 13/200\n",
            "77/77 [==============================] - 0s 3ms/step - loss: 0.6401 - accuracy: 0.6706\n",
            "Epoch 14/200\n",
            "77/77 [==============================] - 0s 2ms/step - loss: 0.6260 - accuracy: 0.6836\n",
            "Epoch 15/200\n",
            "77/77 [==============================] - 0s 3ms/step - loss: 0.6107 - accuracy: 0.6719\n",
            "Epoch 16/200\n",
            "77/77 [==============================] - 0s 3ms/step - loss: 0.6101 - accuracy: 0.6797\n",
            "Epoch 17/200\n",
            "77/77 [==============================] - 0s 3ms/step - loss: 0.6068 - accuracy: 0.6823\n",
            "Epoch 18/200\n",
            "77/77 [==============================] - 0s 3ms/step - loss: 0.6005 - accuracy: 0.6862\n",
            "Epoch 19/200\n",
            "77/77 [==============================] - 0s 3ms/step - loss: 0.6106 - accuracy: 0.6706\n",
            "Epoch 20/200\n",
            "77/77 [==============================] - 0s 3ms/step - loss: 0.6182 - accuracy: 0.6693\n",
            "Epoch 21/200\n",
            "77/77 [==============================] - 0s 2ms/step - loss: 0.5998 - accuracy: 0.6862\n",
            "Epoch 22/200\n",
            "77/77 [==============================] - 0s 3ms/step - loss: 0.5954 - accuracy: 0.6901\n",
            "Epoch 23/200\n",
            "77/77 [==============================] - 0s 3ms/step - loss: 0.5925 - accuracy: 0.7005\n",
            "Epoch 24/200\n",
            "77/77 [==============================] - 0s 2ms/step - loss: 0.5969 - accuracy: 0.6875\n",
            "Epoch 25/200\n",
            "77/77 [==============================] - 0s 3ms/step - loss: 0.5875 - accuracy: 0.6966\n",
            "Epoch 26/200\n",
            "77/77 [==============================] - 0s 4ms/step - loss: 0.5701 - accuracy: 0.7096\n",
            "Epoch 27/200\n",
            "77/77 [==============================] - 0s 4ms/step - loss: 0.6023 - accuracy: 0.6862\n",
            "Epoch 28/200\n",
            "77/77 [==============================] - 0s 4ms/step - loss: 0.5908 - accuracy: 0.6966\n",
            "Epoch 29/200\n",
            "77/77 [==============================] - 0s 4ms/step - loss: 0.5786 - accuracy: 0.6992\n",
            "Epoch 30/200\n",
            "77/77 [==============================] - 0s 4ms/step - loss: 0.5788 - accuracy: 0.6979\n",
            "Epoch 31/200\n",
            "77/77 [==============================] - 0s 4ms/step - loss: 0.5790 - accuracy: 0.7057\n",
            "Epoch 32/200\n",
            "77/77 [==============================] - 0s 4ms/step - loss: 0.5709 - accuracy: 0.7109\n",
            "Epoch 33/200\n",
            "77/77 [==============================] - 0s 4ms/step - loss: 0.5839 - accuracy: 0.7057\n",
            "Epoch 34/200\n",
            "77/77 [==============================] - 0s 4ms/step - loss: 0.5719 - accuracy: 0.7083\n",
            "Epoch 35/200\n",
            "77/77 [==============================] - 0s 3ms/step - loss: 0.5827 - accuracy: 0.7122\n",
            "Epoch 36/200\n",
            "77/77 [==============================] - 0s 2ms/step - loss: 0.5636 - accuracy: 0.7083\n",
            "Epoch 37/200\n",
            "77/77 [==============================] - 0s 2ms/step - loss: 0.5642 - accuracy: 0.7018\n",
            "Epoch 38/200\n",
            "77/77 [==============================] - 0s 2ms/step - loss: 0.5591 - accuracy: 0.7253\n",
            "Epoch 39/200\n",
            "77/77 [==============================] - 0s 3ms/step - loss: 0.5786 - accuracy: 0.7005\n",
            "Epoch 40/200\n",
            "77/77 [==============================] - 0s 3ms/step - loss: 0.5611 - accuracy: 0.7122\n",
            "Epoch 41/200\n",
            "77/77 [==============================] - 0s 3ms/step - loss: 0.5612 - accuracy: 0.6979\n",
            "Epoch 42/200\n",
            "77/77 [==============================] - 0s 3ms/step - loss: 0.5662 - accuracy: 0.7148\n",
            "Epoch 43/200\n",
            "77/77 [==============================] - 0s 2ms/step - loss: 0.5888 - accuracy: 0.7109\n",
            "Epoch 44/200\n",
            "77/77 [==============================] - 0s 3ms/step - loss: 0.5540 - accuracy: 0.7279\n",
            "Epoch 45/200\n",
            "77/77 [==============================] - 0s 3ms/step - loss: 0.5662 - accuracy: 0.6927\n",
            "Epoch 46/200\n",
            "77/77 [==============================] - 0s 3ms/step - loss: 0.5839 - accuracy: 0.7240\n",
            "Epoch 47/200\n",
            "77/77 [==============================] - 0s 2ms/step - loss: 0.5669 - accuracy: 0.7122\n",
            "Epoch 48/200\n",
            "77/77 [==============================] - 0s 3ms/step - loss: 0.5580 - accuracy: 0.7122\n",
            "Epoch 49/200\n",
            "77/77 [==============================] - 0s 3ms/step - loss: 0.5584 - accuracy: 0.7135\n",
            "Epoch 50/200\n",
            "77/77 [==============================] - 0s 3ms/step - loss: 0.5630 - accuracy: 0.7148\n",
            "Epoch 51/200\n",
            "77/77 [==============================] - 0s 3ms/step - loss: 0.5425 - accuracy: 0.7422\n",
            "Epoch 52/200\n",
            "77/77 [==============================] - 0s 3ms/step - loss: 0.5480 - accuracy: 0.7161\n",
            "Epoch 53/200\n",
            "77/77 [==============================] - 0s 2ms/step - loss: 0.5444 - accuracy: 0.7383\n",
            "Epoch 54/200\n",
            "77/77 [==============================] - 0s 3ms/step - loss: 0.5505 - accuracy: 0.7148\n",
            "Epoch 55/200\n",
            "77/77 [==============================] - 0s 3ms/step - loss: 0.5507 - accuracy: 0.7174\n",
            "Epoch 56/200\n",
            "77/77 [==============================] - 0s 3ms/step - loss: 0.5547 - accuracy: 0.7174\n",
            "Epoch 57/200\n",
            "77/77 [==============================] - 0s 2ms/step - loss: 0.5721 - accuracy: 0.7174\n",
            "Epoch 58/200\n",
            "77/77 [==============================] - 0s 2ms/step - loss: 0.5574 - accuracy: 0.7188\n",
            "Epoch 59/200\n",
            "77/77 [==============================] - 0s 3ms/step - loss: 0.5370 - accuracy: 0.7383\n",
            "Epoch 60/200\n",
            "77/77 [==============================] - 0s 3ms/step - loss: 0.5423 - accuracy: 0.7266\n",
            "Epoch 61/200\n",
            "77/77 [==============================] - 0s 3ms/step - loss: 0.5407 - accuracy: 0.7396\n",
            "Epoch 62/200\n",
            "77/77 [==============================] - 0s 3ms/step - loss: 0.5503 - accuracy: 0.7266\n",
            "Epoch 63/200\n",
            "77/77 [==============================] - 0s 3ms/step - loss: 0.5343 - accuracy: 0.7357\n",
            "Epoch 64/200\n",
            "77/77 [==============================] - 0s 3ms/step - loss: 0.5360 - accuracy: 0.7292\n",
            "Epoch 65/200\n",
            "77/77 [==============================] - 0s 3ms/step - loss: 0.5364 - accuracy: 0.7344\n",
            "Epoch 66/200\n",
            "77/77 [==============================] - 0s 3ms/step - loss: 0.5308 - accuracy: 0.7344\n",
            "Epoch 67/200\n",
            "77/77 [==============================] - 0s 3ms/step - loss: 0.5321 - accuracy: 0.7305\n",
            "Epoch 68/200\n",
            "77/77 [==============================] - 0s 3ms/step - loss: 0.5466 - accuracy: 0.7135\n",
            "Epoch 69/200\n",
            "77/77 [==============================] - 0s 2ms/step - loss: 0.5352 - accuracy: 0.7448\n",
            "Epoch 70/200\n",
            "77/77 [==============================] - 0s 2ms/step - loss: 0.5355 - accuracy: 0.7383\n",
            "Epoch 71/200\n",
            "77/77 [==============================] - 0s 2ms/step - loss: 0.5282 - accuracy: 0.7370\n",
            "Epoch 72/200\n",
            "77/77 [==============================] - 0s 2ms/step - loss: 0.5284 - accuracy: 0.7396\n",
            "Epoch 73/200\n",
            "77/77 [==============================] - 0s 3ms/step - loss: 0.5238 - accuracy: 0.7487\n",
            "Epoch 74/200\n",
            "77/77 [==============================] - 0s 3ms/step - loss: 0.5293 - accuracy: 0.7513\n",
            "Epoch 75/200\n",
            "77/77 [==============================] - 0s 3ms/step - loss: 0.5365 - accuracy: 0.7396\n",
            "Epoch 76/200\n",
            "77/77 [==============================] - 0s 2ms/step - loss: 0.5304 - accuracy: 0.7370\n",
            "Epoch 77/200\n",
            "77/77 [==============================] - 0s 3ms/step - loss: 0.5418 - accuracy: 0.7396\n",
            "Epoch 78/200\n",
            "77/77 [==============================] - 0s 3ms/step - loss: 0.5269 - accuracy: 0.7383\n",
            "Epoch 79/200\n",
            "77/77 [==============================] - 0s 3ms/step - loss: 0.5379 - accuracy: 0.7318\n",
            "Epoch 80/200\n",
            "77/77 [==============================] - 0s 3ms/step - loss: 0.5302 - accuracy: 0.7370\n",
            "Epoch 81/200\n",
            "77/77 [==============================] - 0s 2ms/step - loss: 0.5251 - accuracy: 0.7565\n",
            "Epoch 82/200\n",
            "77/77 [==============================] - 0s 2ms/step - loss: 0.5276 - accuracy: 0.7357\n",
            "Epoch 83/200\n",
            "77/77 [==============================] - 0s 4ms/step - loss: 0.5287 - accuracy: 0.7370\n",
            "Epoch 84/200\n",
            "77/77 [==============================] - 0s 4ms/step - loss: 0.5269 - accuracy: 0.7253\n",
            "Epoch 85/200\n",
            "77/77 [==============================] - 0s 4ms/step - loss: 0.5249 - accuracy: 0.7448\n",
            "Epoch 86/200\n",
            "77/77 [==============================] - 0s 4ms/step - loss: 0.5215 - accuracy: 0.7513\n",
            "Epoch 87/200\n",
            "77/77 [==============================] - 0s 4ms/step - loss: 0.5239 - accuracy: 0.7474\n",
            "Epoch 88/200\n",
            "77/77 [==============================] - 0s 4ms/step - loss: 0.5330 - accuracy: 0.7240\n",
            "Epoch 89/200\n",
            "77/77 [==============================] - 0s 4ms/step - loss: 0.5252 - accuracy: 0.7279\n",
            "Epoch 90/200\n",
            "77/77 [==============================] - 0s 4ms/step - loss: 0.5315 - accuracy: 0.7344\n",
            "Epoch 91/200\n",
            "77/77 [==============================] - 0s 3ms/step - loss: 0.5395 - accuracy: 0.7396\n",
            "Epoch 92/200\n",
            "77/77 [==============================] - 0s 3ms/step - loss: 0.5252 - accuracy: 0.7500\n",
            "Epoch 93/200\n",
            "77/77 [==============================] - 0s 3ms/step - loss: 0.5170 - accuracy: 0.7357\n",
            "Epoch 94/200\n",
            "77/77 [==============================] - 0s 2ms/step - loss: 0.5070 - accuracy: 0.7552\n",
            "Epoch 95/200\n",
            "77/77 [==============================] - 0s 2ms/step - loss: 0.5208 - accuracy: 0.7383\n",
            "Epoch 96/200\n",
            "77/77 [==============================] - 0s 2ms/step - loss: 0.5099 - accuracy: 0.7643\n",
            "Epoch 97/200\n",
            "77/77 [==============================] - 0s 2ms/step - loss: 0.5146 - accuracy: 0.7435\n",
            "Epoch 98/200\n",
            "77/77 [==============================] - 0s 3ms/step - loss: 0.5203 - accuracy: 0.7526\n",
            "Epoch 99/200\n",
            "77/77 [==============================] - 0s 2ms/step - loss: 0.5222 - accuracy: 0.7422\n",
            "Epoch 100/200\n",
            "77/77 [==============================] - 0s 2ms/step - loss: 0.5187 - accuracy: 0.7461\n",
            "Epoch 101/200\n",
            "77/77 [==============================] - 0s 2ms/step - loss: 0.5220 - accuracy: 0.7396\n",
            "Epoch 102/200\n",
            "77/77 [==============================] - 0s 2ms/step - loss: 0.5201 - accuracy: 0.7422\n",
            "Epoch 103/200\n",
            "77/77 [==============================] - 0s 2ms/step - loss: 0.5129 - accuracy: 0.7435\n",
            "Epoch 104/200\n",
            "77/77 [==============================] - 0s 3ms/step - loss: 0.5275 - accuracy: 0.7370\n",
            "Epoch 105/200\n",
            "77/77 [==============================] - 0s 3ms/step - loss: 0.5174 - accuracy: 0.7370\n",
            "Epoch 106/200\n",
            "77/77 [==============================] - 0s 2ms/step - loss: 0.5069 - accuracy: 0.7591\n",
            "Epoch 107/200\n",
            "77/77 [==============================] - 0s 2ms/step - loss: 0.5048 - accuracy: 0.7669\n",
            "Epoch 108/200\n",
            "77/77 [==============================] - 0s 3ms/step - loss: 0.5104 - accuracy: 0.7539\n",
            "Epoch 109/200\n",
            "77/77 [==============================] - 0s 3ms/step - loss: 0.5029 - accuracy: 0.7669\n",
            "Epoch 110/200\n",
            "77/77 [==============================] - 0s 2ms/step - loss: 0.5144 - accuracy: 0.7487\n",
            "Epoch 111/200\n",
            "77/77 [==============================] - 0s 2ms/step - loss: 0.5082 - accuracy: 0.7526\n",
            "Epoch 112/200\n",
            "77/77 [==============================] - 0s 2ms/step - loss: 0.5067 - accuracy: 0.7591\n",
            "Epoch 113/200\n",
            "77/77 [==============================] - 0s 2ms/step - loss: 0.5040 - accuracy: 0.7552\n",
            "Epoch 114/200\n",
            "77/77 [==============================] - 0s 3ms/step - loss: 0.5079 - accuracy: 0.7578\n",
            "Epoch 115/200\n",
            "77/77 [==============================] - 0s 2ms/step - loss: 0.4998 - accuracy: 0.7669\n",
            "Epoch 116/200\n",
            "77/77 [==============================] - 0s 2ms/step - loss: 0.4992 - accuracy: 0.7552\n",
            "Epoch 117/200\n",
            "77/77 [==============================] - 0s 2ms/step - loss: 0.5036 - accuracy: 0.7617\n",
            "Epoch 118/200\n",
            "77/77 [==============================] - 0s 3ms/step - loss: 0.5023 - accuracy: 0.7552\n",
            "Epoch 119/200\n",
            "77/77 [==============================] - 0s 3ms/step - loss: 0.5109 - accuracy: 0.7643\n",
            "Epoch 120/200\n",
            "77/77 [==============================] - 0s 2ms/step - loss: 0.5115 - accuracy: 0.7487\n",
            "Epoch 121/200\n",
            "77/77 [==============================] - 0s 2ms/step - loss: 0.5027 - accuracy: 0.7513\n",
            "Epoch 122/200\n",
            "77/77 [==============================] - 0s 2ms/step - loss: 0.5027 - accuracy: 0.7487\n",
            "Epoch 123/200\n",
            "77/77 [==============================] - 0s 3ms/step - loss: 0.5073 - accuracy: 0.7578\n",
            "Epoch 124/200\n",
            "77/77 [==============================] - 0s 2ms/step - loss: 0.5002 - accuracy: 0.7591\n",
            "Epoch 125/200\n",
            "77/77 [==============================] - 0s 2ms/step - loss: 0.5137 - accuracy: 0.7474\n",
            "Epoch 126/200\n",
            "77/77 [==============================] - 0s 2ms/step - loss: 0.5039 - accuracy: 0.7604\n",
            "Epoch 127/200\n",
            "77/77 [==============================] - 0s 3ms/step - loss: 0.5061 - accuracy: 0.7656\n",
            "Epoch 128/200\n",
            "77/77 [==============================] - 0s 2ms/step - loss: 0.5005 - accuracy: 0.7604\n",
            "Epoch 129/200\n",
            "77/77 [==============================] - 0s 3ms/step - loss: 0.5105 - accuracy: 0.7513\n",
            "Epoch 130/200\n",
            "77/77 [==============================] - 0s 3ms/step - loss: 0.4993 - accuracy: 0.7552\n",
            "Epoch 131/200\n",
            "77/77 [==============================] - 0s 2ms/step - loss: 0.4930 - accuracy: 0.7669\n",
            "Epoch 132/200\n",
            "77/77 [==============================] - 0s 2ms/step - loss: 0.4938 - accuracy: 0.7487\n",
            "Epoch 133/200\n",
            "77/77 [==============================] - 0s 2ms/step - loss: 0.4984 - accuracy: 0.7812\n",
            "Epoch 134/200\n",
            "77/77 [==============================] - 0s 2ms/step - loss: 0.5079 - accuracy: 0.7500\n",
            "Epoch 135/200\n",
            "77/77 [==============================] - 0s 3ms/step - loss: 0.4976 - accuracy: 0.7617\n",
            "Epoch 136/200\n",
            "77/77 [==============================] - 0s 2ms/step - loss: 0.4949 - accuracy: 0.7643\n",
            "Epoch 137/200\n",
            "77/77 [==============================] - 0s 2ms/step - loss: 0.4928 - accuracy: 0.7747\n",
            "Epoch 138/200\n",
            "77/77 [==============================] - 0s 2ms/step - loss: 0.5107 - accuracy: 0.7552\n",
            "Epoch 139/200\n",
            "77/77 [==============================] - 0s 2ms/step - loss: 0.4936 - accuracy: 0.7604\n",
            "Epoch 140/200\n",
            "77/77 [==============================] - 0s 3ms/step - loss: 0.4929 - accuracy: 0.7682\n",
            "Epoch 141/200\n",
            "77/77 [==============================] - 0s 3ms/step - loss: 0.4898 - accuracy: 0.7695\n",
            "Epoch 142/200\n",
            "77/77 [==============================] - 0s 3ms/step - loss: 0.4945 - accuracy: 0.7604\n",
            "Epoch 143/200\n",
            "77/77 [==============================] - 0s 4ms/step - loss: 0.4931 - accuracy: 0.7656\n",
            "Epoch 144/200\n",
            "77/77 [==============================] - 0s 4ms/step - loss: 0.4840 - accuracy: 0.7721\n",
            "Epoch 145/200\n",
            "77/77 [==============================] - 0s 4ms/step - loss: 0.4971 - accuracy: 0.7773\n",
            "Epoch 146/200\n",
            "77/77 [==============================] - 0s 4ms/step - loss: 0.4877 - accuracy: 0.7617\n",
            "Epoch 147/200\n",
            "77/77 [==============================] - 0s 4ms/step - loss: 0.4846 - accuracy: 0.7604\n",
            "Epoch 148/200\n",
            "77/77 [==============================] - 0s 4ms/step - loss: 0.4868 - accuracy: 0.7682\n",
            "Epoch 149/200\n",
            "77/77 [==============================] - 0s 4ms/step - loss: 0.4989 - accuracy: 0.7565\n",
            "Epoch 150/200\n",
            "77/77 [==============================] - 0s 4ms/step - loss: 0.4893 - accuracy: 0.7604\n",
            "Epoch 151/200\n",
            "77/77 [==============================] - 0s 4ms/step - loss: 0.4905 - accuracy: 0.7721\n",
            "Epoch 152/200\n",
            "77/77 [==============================] - 0s 4ms/step - loss: 0.4867 - accuracy: 0.7747\n",
            "Epoch 153/200\n",
            "77/77 [==============================] - 0s 3ms/step - loss: 0.4894 - accuracy: 0.7799\n",
            "Epoch 154/200\n",
            "77/77 [==============================] - 0s 2ms/step - loss: 0.4987 - accuracy: 0.7786\n",
            "Epoch 155/200\n",
            "77/77 [==============================] - 0s 2ms/step - loss: 0.4868 - accuracy: 0.7799\n",
            "Epoch 156/200\n",
            "77/77 [==============================] - 0s 3ms/step - loss: 0.4841 - accuracy: 0.7682\n",
            "Epoch 157/200\n",
            "77/77 [==============================] - 0s 3ms/step - loss: 0.4840 - accuracy: 0.7721\n",
            "Epoch 158/200\n",
            "77/77 [==============================] - 0s 3ms/step - loss: 0.4852 - accuracy: 0.7643\n",
            "Epoch 159/200\n",
            "77/77 [==============================] - 0s 3ms/step - loss: 0.4810 - accuracy: 0.7669\n",
            "Epoch 160/200\n",
            "77/77 [==============================] - 0s 2ms/step - loss: 0.4853 - accuracy: 0.7682\n",
            "Epoch 161/200\n",
            "77/77 [==============================] - 0s 2ms/step - loss: 0.4854 - accuracy: 0.7591\n",
            "Epoch 162/200\n",
            "77/77 [==============================] - 0s 3ms/step - loss: 0.4828 - accuracy: 0.7682\n",
            "Epoch 163/200\n",
            "77/77 [==============================] - 0s 3ms/step - loss: 0.4866 - accuracy: 0.7786\n",
            "Epoch 164/200\n",
            "77/77 [==============================] - 0s 3ms/step - loss: 0.4782 - accuracy: 0.7669\n",
            "Epoch 165/200\n",
            "77/77 [==============================] - 0s 2ms/step - loss: 0.4786 - accuracy: 0.7695\n",
            "Epoch 166/200\n",
            "77/77 [==============================] - 0s 3ms/step - loss: 0.4870 - accuracy: 0.7682\n",
            "Epoch 167/200\n",
            "77/77 [==============================] - 0s 2ms/step - loss: 0.4740 - accuracy: 0.7799\n",
            "Epoch 168/200\n",
            "77/77 [==============================] - 0s 3ms/step - loss: 0.4917 - accuracy: 0.7591\n",
            "Epoch 169/200\n",
            "77/77 [==============================] - 0s 2ms/step - loss: 0.4767 - accuracy: 0.7799\n",
            "Epoch 170/200\n",
            "77/77 [==============================] - 0s 2ms/step - loss: 0.4852 - accuracy: 0.7682\n",
            "Epoch 171/200\n",
            "77/77 [==============================] - 0s 2ms/step - loss: 0.4767 - accuracy: 0.7721\n",
            "Epoch 172/200\n",
            "77/77 [==============================] - 0s 2ms/step - loss: 0.4774 - accuracy: 0.7786\n",
            "Epoch 173/200\n",
            "77/77 [==============================] - 0s 2ms/step - loss: 0.4742 - accuracy: 0.7760\n",
            "Epoch 174/200\n",
            "77/77 [==============================] - 0s 2ms/step - loss: 0.4740 - accuracy: 0.7656\n",
            "Epoch 175/200\n",
            "77/77 [==============================] - 0s 2ms/step - loss: 0.4818 - accuracy: 0.7773\n",
            "Epoch 176/200\n",
            "77/77 [==============================] - 0s 3ms/step - loss: 0.4729 - accuracy: 0.7904\n",
            "Epoch 177/200\n",
            "77/77 [==============================] - 0s 2ms/step - loss: 0.4836 - accuracy: 0.7695\n",
            "Epoch 178/200\n",
            "77/77 [==============================] - 0s 2ms/step - loss: 0.4807 - accuracy: 0.7669\n",
            "Epoch 179/200\n",
            "77/77 [==============================] - 0s 3ms/step - loss: 0.4776 - accuracy: 0.7760\n",
            "Epoch 180/200\n",
            "77/77 [==============================] - 0s 3ms/step - loss: 0.4808 - accuracy: 0.7669\n",
            "Epoch 181/200\n",
            "77/77 [==============================] - 0s 3ms/step - loss: 0.4893 - accuracy: 0.7617\n",
            "Epoch 182/200\n",
            "77/77 [==============================] - 0s 2ms/step - loss: 0.4913 - accuracy: 0.7760\n",
            "Epoch 183/200\n",
            "77/77 [==============================] - 0s 2ms/step - loss: 0.4738 - accuracy: 0.7773\n",
            "Epoch 184/200\n",
            "77/77 [==============================] - 0s 3ms/step - loss: 0.4685 - accuracy: 0.7786\n",
            "Epoch 185/200\n",
            "77/77 [==============================] - 0s 2ms/step - loss: 0.4781 - accuracy: 0.7682\n",
            "Epoch 186/200\n",
            "77/77 [==============================] - 0s 3ms/step - loss: 0.4777 - accuracy: 0.7669\n",
            "Epoch 187/200\n",
            "77/77 [==============================] - 0s 2ms/step - loss: 0.4915 - accuracy: 0.7669\n",
            "Epoch 188/200\n",
            "77/77 [==============================] - 0s 2ms/step - loss: 0.4678 - accuracy: 0.7773\n",
            "Epoch 189/200\n",
            "77/77 [==============================] - 0s 2ms/step - loss: 0.4673 - accuracy: 0.7839\n",
            "Epoch 190/200\n",
            "77/77 [==============================] - 0s 2ms/step - loss: 0.4714 - accuracy: 0.7708\n",
            "Epoch 191/200\n",
            "77/77 [==============================] - 0s 3ms/step - loss: 0.4696 - accuracy: 0.7760\n",
            "Epoch 192/200\n",
            "77/77 [==============================] - 0s 3ms/step - loss: 0.4711 - accuracy: 0.7734\n",
            "Epoch 193/200\n",
            "77/77 [==============================] - 0s 2ms/step - loss: 0.4772 - accuracy: 0.7773\n",
            "Epoch 194/200\n",
            "77/77 [==============================] - 0s 2ms/step - loss: 0.4704 - accuracy: 0.7812\n",
            "Epoch 195/200\n",
            "77/77 [==============================] - 0s 2ms/step - loss: 0.4664 - accuracy: 0.7878\n",
            "Epoch 196/200\n",
            "77/77 [==============================] - 0s 3ms/step - loss: 0.4659 - accuracy: 0.7799\n",
            "Epoch 197/200\n",
            "77/77 [==============================] - 0s 3ms/step - loss: 0.4742 - accuracy: 0.7760\n",
            "Epoch 198/200\n",
            "77/77 [==============================] - 0s 3ms/step - loss: 0.4796 - accuracy: 0.7760\n",
            "Epoch 199/200\n",
            "77/77 [==============================] - 0s 2ms/step - loss: 0.4713 - accuracy: 0.7799\n",
            "Epoch 200/200\n",
            "77/77 [==============================] - 0s 3ms/step - loss: 0.4763 - accuracy: 0.7773\n",
            "24/24 [==============================] - 0s 2ms/step - loss: 0.4598 - accuracy: 0.7773\n",
            "\n",
            " Accuracy: 0.7773\n"
          ]
        }
      ]
    }
  ]
}
{
  "nbformat": 4,
  "nbformat_minor": 0,
  "metadata": {
    "colab": {
      "provenance": [],
      "collapsed_sections": [
        "mSvnn-ZWd9ef",
        "UhcQBmxwO5Vm"
      ],
      "include_colab_link": true
    },
    "kernelspec": {
      "name": "python3",
      "display_name": "Python 3"
    },
    "language_info": {
      "name": "python"
    }
  },
  "cells": [
    {
      "cell_type": "markdown",
      "metadata": {
        "id": "view-in-github",
        "colab_type": "text"
      },
      "source": [
        "<a href=\"https://colab.research.google.com/github/tirals88/DL_for_everyone/blob/main/deeplearning/notebook/3%EC%9E%A5%20%EC%84%A0%ED%98%95%20%ED%9A%8C%EA%B7%80.ipynb\" target=\"_parent\"><img src=\"https://colab.research.google.com/assets/colab-badge.svg\" alt=\"Open In Colab\"/></a>"
      ]
    },
    {
      "cell_type": "markdown",
      "source": [
        "'모두의 딥러닝' 책 스터디 내용을 jupyter notebook으로 정리하여 올립니다.\n",
        "\n",
        "Github 주소 : 'https://github.com/gilbutITbook/080228'\n",
        "\n",
        "**모두의 딥러닝**"
      ],
      "metadata": {
        "id": "WdeE-kzODzDl"
      }
    },
    {
      "cell_type": "markdown",
      "source": [
        "# 03 장 선형 회귀\n"
      ],
      "metadata": {
        "id": "mSvnn-ZWd9ef"
      }
    },
    {
      "cell_type": "markdown",
      "source": [
        "## 최소제곱법\n",
        "\n",
        "최소제곱법을 통해 $y = ax + b$ 함수를 만들고자 할 때, $a$ 를 구하는 방법은 다음과 같다.\n",
        "\n",
        "$$ a = \\frac{Σ{(x - x의 평균)(y - y의 평균)}}{\\Sigma{(x - x의 평균)}}$$\n",
        "\n",
        "행렬식으로는 다음과 같다.\n",
        "\n",
        "$$ X = (A^{T}A)^{-1}A^{T}Y$$"
      ],
      "metadata": {
        "id": "BPzVzOrItn3t"
      }
    },
    {
      "cell_type": "code",
      "source": [
        "# 최소제곱법\n",
        "import numpy as np\n",
        "\n",
        "data_x = np.array([2, 4, 6, 8])\n",
        "data_y = np.array([81, 93, 91, 97])\n",
        "\n",
        "mean_x = np.mean(data_x)\n",
        "mean_y = np.mean(data_y)\n",
        "\n",
        "a = ((np.dot((data_x - mean_x), (data_y - mean_y))).sum()/(np.dot((data_x - mean_x), (data_x - mean_x))).sum())\n",
        "b = mean_y - mean_x * a\n",
        "print(a, b)\n",
        "\n",
        "# 최소제곱법 행렬식\n",
        "A1 = np.reshape(data_x, (4,1))\n",
        "A2 = np.ones(4)\n",
        "A2 = np.reshape(A2, (4,1))\n",
        "A = np.concatenate((A1, A2), axis = 1)\n",
        "\n",
        "X = np.dot(np.dot(np.linalg.inv(np.dot(A.transpose(), A)), A.transpose()), data_y)\n",
        "\n",
        "print(A)\n",
        "print(X)"
      ],
      "metadata": {
        "id": "mty06N0Us27w",
        "colab": {
          "base_uri": "https://localhost:8080/"
        },
        "outputId": "d815a727-b584-46b3-d1ed-8f3669917e61"
      },
      "execution_count": 1,
      "outputs": [
        {
          "output_type": "stream",
          "name": "stdout",
          "text": [
            "2.3 79.0\n",
            "[[2. 1.]\n",
            " [4. 1.]\n",
            " [6. 1.]\n",
            " [8. 1.]]\n",
            "[ 2.3 79. ]\n"
          ]
        }
      ]
    },
    {
      "cell_type": "code",
      "source": [
        "# 좌표 평면으로 확인하기\n",
        "\n",
        "import matplotlib.pyplot as plt\n",
        "\n",
        "Y = X[0]*data_x + X[1]\n",
        "plt.scatter(data_x, data_y, label = 'original')\n",
        "plt.plot(data_x, Y, label = 'mse', color = 'r')\n",
        "plt.legend()\n",
        "plt.show()"
      ],
      "metadata": {
        "id": "zyhx1L8h6jfI",
        "outputId": "df1fcec8-d40a-43c7-b235-b401186ee6de",
        "colab": {
          "base_uri": "https://localhost:8080/",
          "height": 265
        }
      },
      "execution_count": 3,
      "outputs": [
        {
          "output_type": "display_data",
          "data": {
            "text/plain": [
              "<Figure size 432x288 with 1 Axes>"
            ],
            "image/png": "[encoded data removed]"
          },
          "metadata": {
            "needs_background": "light"
          }
        }
      ]
    },
    {
      "cell_type": "markdown",
      "source": [
        "'최소 제곱법'을 통해서 기울기 a 와 절편 b 를 찾아 간단한 선형 예측 모델을 만들 수 있었다.\n",
        "\n",
        "하지만 이는 변수가 하나일 때만 적용하기 쉽고 앞선 예제와 같이 변수가 17개나 되는 경우에는 '일단 그리고 조금씩 수정해나가기' 방식을 많이 사용한다. \n",
        "\n",
        "이 과정에서 '평균 제곱 오차(mean squared error)'를 통해 오차를 평가하고 모델을 발전시킨다.\n",
        "\n",
        "예를 들어서 위 예시에 $y = 3x + 76$이라는 예측 모델을 대입하면 아래와 같다.\n",
        "\n",
        "\n",
        "|공부한 시간(x)|성적(실제 값, y)|예측 값| **오차**|\n",
        "|------|---|---|---|\n",
        "|2|81|82|**1**|\n",
        "|4|93|88|**-5**|\n",
        "|6|91|94|**3**|\n",
        "|8|97|10|**3**|\n",
        "\n",
        "$오차의 합 = \\sum\\limits_{i}^n (\\hat{y}_{i}-y_{i})^{2}$, $(\\hat{y}_{i} = 실제 값, y_{i} = 예측 값)$\n",
        "\n",
        "$평균 제곱 오차 = \\frac{1}{n}\\sum(\\hat{y}_{i}-y_{i})^{2}$"
      ],
      "metadata": {
        "id": "-ayHxWsRWaVF"
      }
    },
    {
      "cell_type": "code",
      "source": [
        "#평균 제곱 오차 확인\n",
        "\n",
        "fake_a_b = [3, 76]\n",
        "data_x = np.array([2, 4, 6, 8])\n",
        "data_y = np.array([81, 93, 91, 97])\n",
        "\n",
        "x = np.reshape(data_x, (4, 1))\n",
        "y = np.reshape(data_y, (4, 1))\n",
        "data = np.concatenate((x, y), axis = 1)\n",
        "\n",
        "print(data)"
      ],
      "metadata": {
        "id": "-EFIbDhpcgvq",
        "outputId": "dc4dbe55-440e-40aa-8d9b-f89bf2e2aacc",
        "colab": {
          "base_uri": "https://localhost:8080/"
        }
      },
      "execution_count": 5,
      "outputs": [
        {
          "output_type": "stream",
          "name": "stdout",
          "text": [
            "[[ 2 81]\n",
            " [ 4 93]\n",
            " [ 6 91]\n",
            " [ 8 97]]\n"
          ]
        }
      ]
    },
    {
      "cell_type": "code",
      "source": [
        "def predict(x):\n",
        "  return fake_a_b[0]*x + fake_a_b[1]\n",
        "\n",
        "def mse(y_hat, y):\n",
        "  return ((y_hat-y)**2).mean()\n",
        "\n",
        "# 교재에서는 x 와 y가 numpy array 가 아닌 list 로 표현 되어있기 때문에 numpy array 로 변환하는 한 단계 추가\n",
        "#def mse_val(predict_result, y):\n",
        "#  return mse(np.array(predict_result), np.array(y))\n",
        "\n",
        "predict_result = []\n",
        "\n",
        "# 모든 x 값을 대입, result list 완성\n",
        "\n",
        "for i in range(len(x)):\n",
        "  predict_result.append(predict(x[i]))\n",
        "  print(\"공부시간=%.f, 실제 점수 =%.f, 예측 점수 =%.f\"%(x[i], y[i], predict(x[i])))\n",
        "\n",
        "# list 에 반복문 바로 적용\n",
        "predict_result2 = []\n",
        "for i in x:\n",
        "  predict_result2.append(predict(i))\n",
        "\n",
        "print(predict_result == predict_result2)"
      ],
      "metadata": {
        "id": "QEDMOI7tdRWA",
        "outputId": "df81c465-be19-460e-d62f-8bd96030aac7",
        "colab": {
          "base_uri": "https://localhost:8080/"
        }
      },
      "execution_count": 7,
      "outputs": [
        {
          "output_type": "stream",
          "name": "stdout",
          "text": [
            "공부시간=2, 실제 점수 =81, 예측 점수 =82\n",
            "공부시간=4, 실제 점수 =93, 예측 점수 =88\n",
            "공부시간=6, 실제 점수 =91, 예측 점수 =94\n",
            "공부시간=8, 실제 점수 =97, 예측 점수 =100\n",
            "True\n"
          ]
        }
      ]
    },
    {
      "cell_type": "code",
      "source": [
        "# 최종 MSE 출력\n",
        "\n",
        "print(\"mse 최종값: \" + str(mse(predict_result, y)))"
      ],
      "metadata": {
        "id": "NT3n-s37e-U7",
        "outputId": "671b1336-db12-4739-cb89-c12d40026c19",
        "colab": {
          "base_uri": "https://localhost:8080/"
        }
      },
      "execution_count": 8,
      "outputs": [
        {
          "output_type": "stream",
          "name": "stdout",
          "text": [
            "mse 최종값: 11.0\n"
          ]
        }
      ]
    },
    {
      "cell_type": "markdown",
      "source": [
        "이를 통해 처음 가정한 a = 3, b = 76은 오차가 약 11.0임을 확인할 수 있다. 이제 오차를 줄이면서 새로운 선을 그어볼 예정이다. 다음 장에서 오차를 줄이는 방법인 '경사 하강법'에 대해 알아볼 것이다."
      ],
      "metadata": {
        "id": "hoIQQf7Wf2nQ"
      }
    }
  ]
}
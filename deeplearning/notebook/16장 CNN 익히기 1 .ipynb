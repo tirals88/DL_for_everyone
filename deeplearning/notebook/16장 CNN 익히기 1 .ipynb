{
  "nbformat": 4,
  "nbformat_minor": 0,
  "metadata": {
    "colab": {
      "provenance": [],
      "collapsed_sections": [
        "mSvnn-ZWd9ef",
        "UhcQBmxwO5Vm"
      ],
      "include_colab_link": true
    },
    "kernelspec": {
      "name": "python3",
      "display_name": "Python 3"
    },
    "language_info": {
      "name": "python"
    }
  },
  "cells": [
    {
      "cell_type": "markdown",
      "metadata": {
        "id": "view-in-github",
        "colab_type": "text"
      },
      "source": [
        "<a href=\"https://colab.research.google.com/github/tirals88/DL_for_everyone/blob/main/deeplearning/notebook/16%EC%9E%A5%20CNN%20%EC%9D%B5%ED%9E%88%EA%B8%B0%201%20.ipynb\" target=\"_parent\"><img src=\"https://colab.research.google.com/assets/colab-badge.svg\" alt=\"Open In Colab\"/></a>"
      ]
    },
    {
      "cell_type": "markdown",
      "source": [
        "'모두의 딥러닝' 책 스터디 내용을 jupyter notebook으로 정리하여 올립니다.\n",
        "\n",
        "Github 주소 : 'https://github.com/gilbutITbook/080228'\n",
        "\n",
        "**모두의 딥러닝**"
      ],
      "metadata": {
        "id": "WdeE-kzODzDl"
      }
    },
    {
      "cell_type": "markdown",
      "source": [
        "# 16 장 CNN 익히기 1\n",
        "\n",
        "컴퓨터에게 글씨를 읽게 하고 글씨가 어떤 의미를 가지는지 알게하는 과정은 쉽지 않다.\n",
        "\n",
        "MNIST 데이터셋은 미국 국립표준기술원이 손글씨를 이용해 70,000개의 글자 이미지에 0 ~ 9 까지의 이름표를 붙인 데이터셋으로 유명한 데이터 중 하나이다.\n",
        "\n",
        "MNIST 데이터는 케라스를 이용해 간단히 불러올 수 있다."
      ],
      "metadata": {
        "id": "mSvnn-ZWd9ef"
      }
    },
    {
      "cell_type": "code",
      "source": [
        "# 데이터 로드\n",
        "import pandas as pd\n",
        "from keras.datasets import mnist\n",
        "\n",
        "(X_train, Y_class_train), (X_test, Y_class_test) = mnist.load_data()"
      ],
      "metadata": {
        "id": "eKROL3263FGD",
        "colab": {
          "base_uri": "https://localhost:8080/"
        },
        "outputId": "0e5c24a0-37be-4496-f58c-943b46ac8930"
      },
      "execution_count": 27,
      "outputs": [
        {
          "output_type": "stream",
          "name": "stdout",
          "text": [
            "Downloading data from https://storage.googleapis.com/tensorflow/tf-keras-datasets/mnist.npz\n",
            "11490434/11490434 [==============================] - 1s 0us/step\n"
          ]
        }
      ]
    },
    {
      "cell_type": "markdown",
      "source": [
        "케라스 MNIST 데이터는 총 7만개의 이미지 중 6만개를 학습용으로, 1만개를 테스트용으로 미리 구분해 놓고 있다. 이를 다음과 같이 확인할 수 있다."
      ],
      "metadata": {
        "id": "KPdHUCBSxtkb"
      }
    },
    {
      "cell_type": "code",
      "source": [
        "print(\"학습셋 이미지 수: %d 개\" % (X_train.shape[0]))\n",
        "print(\"테스트셋 이미지 수: %d 개\" % (X_test.shape[0]))"
      ],
      "metadata": {
        "id": "GP2f8dFf8Mze",
        "outputId": "123e3c3d-3b52-4939-8858-ae985a0f3284",
        "colab": {
          "base_uri": "https://localhost:8080/"
        }
      },
      "execution_count": 28,
      "outputs": [
        {
          "output_type": "stream",
          "name": "stdout",
          "text": [
            "학습셋 이미지 수: 60000 개\n",
            "테스트셋 이미지 수: 10000 개\n"
          ]
        }
      ]
    },
    {
      "cell_type": "code",
      "source": [
        "# 데이터 확인\n",
        "import matplotlib.pyplot as plt\n",
        "plt.imshow(X_train[0], cmap='Greys')      # 흑백으로 출력\n",
        "plt.show()"
      ],
      "metadata": {
        "id": "LUSoLC4NyFUZ",
        "outputId": "1478d7f6-e177-4579-84d8-716ce381f443",
        "colab": {
          "base_uri": "https://localhost:8080/",
          "height": 265
        }
      },
      "execution_count": 29,
      "outputs": [
        {
          "output_type": "display_data",
          "data": {
            "text/plain": [
              "<Figure size 432x288 with 1 Axes>"
            ],
            "image/png": "[encoded data removed]"
          },
          "metadata": {
            "needs_background": "light"
          }
        }
      ]
    },
    {
      "cell_type": "markdown",
      "source": [
        "이 이미지를 컴퓨터는 어떻게 인식을 할 것인가?\n",
        "\n",
        "먼저 이미지는 28 X 28 = 784개의 픽셀로 이루어져 있으며 밝기 정도에 따라 0 ~ 255 (256 = $2^{8}$) 까지의 등급을 매긴다. 흰색이 0, 글씨가 들어가 있는 곳은 1 ~ 255 까지의 숫자로 채워져 긴 행렬로 이루어진 하나의 집합으로 변환된다.\n"
      ],
      "metadata": {
        "id": "QYmBX5kCtjJc"
      }
    },
    {
      "cell_type": "code",
      "source": [
        "import sys\n",
        "for x in X_train[0]:\n",
        "  for i in x:\n",
        "    sys.stdout.write('%3d' % i)\n",
        "  \n",
        "  sys.stdout.write('\\n')"
      ],
      "metadata": {
        "id": "Cb_I5ZmD8fR0",
        "outputId": "20ba8a28-9e96-420a-c1e3-2bbc62c0c42e",
        "colab": {
          "base_uri": "https://localhost:8080/"
        }
      },
      "execution_count": 32,
      "outputs": [
        {
          "output_type": "stream",
          "name": "stdout",
          "text": [
            "  0  0  0  0  0  0  0  0  0  0  0  0  0  0  0  0  0  0  0  0  0  0  0  0  0  0  0  0\n",
            "  0  0  0  0  0  0  0  0  0  0  0  0  0  0  0  0  0  0  0  0  0  0  0  0  0  0  0  0\n",
            "  0  0  0  0  0  0  0  0  0  0  0  0  0  0  0  0  0  0  0  0  0  0  0  0  0  0  0  0\n",
            "  0  0  0  0  0  0  0  0  0  0  0  0  0  0  0  0  0  0  0  0  0  0  0  0  0  0  0  0\n",
            "  0  0  0  0  0  0  0  0  0  0  0  0  0  0  0  0  0  0  0  0  0  0  0  0  0  0  0  0\n",
            "  0  0  0  0  0  0  0  0  0  0  0  0  3 18 18 18126136175 26166255247127  0  0  0  0\n",
            "  0  0  0  0  0  0  0  0 30 36 94154170253253253253253225172253242195 64  0  0  0  0\n",
            "  0  0  0  0  0  0  0 49238253253253253253253253253251 93 82 82 56 39  0  0  0  0  0\n",
            "  0  0  0  0  0  0  0 18219253253253253253198182247241  0  0  0  0  0  0  0  0  0  0\n",
            "  0  0  0  0  0  0  0  0 80156107253253205 11  0 43154  0  0  0  0  0  0  0  0  0  0\n",
            "  0  0  0  0  0  0  0  0  0 14  1154253 90  0  0  0  0  0  0  0  0  0  0  0  0  0  0\n",
            "  0  0  0  0  0  0  0  0  0  0  0139253190  2  0  0  0  0  0  0  0  0  0  0  0  0  0\n",
            "  0  0  0  0  0  0  0  0  0  0  0 11190253 70  0  0  0  0  0  0  0  0  0  0  0  0  0\n",
            "  0  0  0  0  0  0  0  0  0  0  0  0 35241225160108  1  0  0  0  0  0  0  0  0  0  0\n",
            "  0  0  0  0  0  0  0  0  0  0  0  0  0 81240253253119 25  0  0  0  0  0  0  0  0  0\n",
            "  0  0  0  0  0  0  0  0  0  0  0  0  0  0 45186253253150 27  0  0  0  0  0  0  0  0\n",
            "  0  0  0  0  0  0  0  0  0  0  0  0  0  0  0 16 93252253187  0  0  0  0  0  0  0  0\n",
            "  0  0  0  0  0  0  0  0  0  0  0  0  0  0  0  0  0249253249 64  0  0  0  0  0  0  0\n",
            "  0  0  0  0  0  0  0  0  0  0  0  0  0  0 46130183253253207  2  0  0  0  0  0  0  0\n",
            "  0  0  0  0  0  0  0  0  0  0  0  0 39148229253253253250182  0  0  0  0  0  0  0  0\n",
            "  0  0  0  0  0  0  0  0  0  0 24114221253253253253201 78  0  0  0  0  0  0  0  0  0\n",
            "  0  0  0  0  0  0  0  0 23 66213253253253253198 81  2  0  0  0  0  0  0  0  0  0  0\n",
            "  0  0  0  0  0  0 18171219253253253253195 80  9  0  0  0  0  0  0  0  0  0  0  0  0\n",
            "  0  0  0  0 55172226253253253253244133 11  0  0  0  0  0  0  0  0  0  0  0  0  0  0\n",
            "  0  0  0  0136253253253212135132 16  0  0  0  0  0  0  0  0  0  0  0  0  0  0  0  0\n",
            "  0  0  0  0  0  0  0  0  0  0  0  0  0  0  0  0  0  0  0  0  0  0  0  0  0  0  0  0\n",
            "  0  0  0  0  0  0  0  0  0  0  0  0  0  0  0  0  0  0  0  0  0  0  0  0  0  0  0  0\n",
            "  0  0  0  0  0  0  0  0  0  0  0  0  0  0  0  0  0  0  0  0  0  0  0  0  0  0  0  0\n"
          ]
        }
      ]
    },
    {
      "cell_type": "markdown",
      "source": [
        "이러한 이미지는 숫자의 집합으로 바뀌어 학습에 이용된다. 이를 이전까지 했던 예제와 같이 속성들로 생각하면 **784**개의 속성을 이용해 0 ~ 9까지 10개의 클래스 중 하나를 맞히는 문제가 된다.\n",
        "\n",
        "이제 주어진 28by28의 행렬을 2차원 배열로 바꾸어 주어야 한다.\n",
        "\n",
        "\n"
      ],
      "metadata": {
        "id": "4hJvPrWGmjtC"
      }
    },
    {
      "cell_type": "code",
      "source": [
        "# 배열 형태 수정\n",
        "print(X_train.shape)\n",
        "X_train = X_train.reshape(X_train.shape[0], 784)\n",
        "print(X_train.shape)"
      ],
      "metadata": {
        "id": "E1oHkJuqAq_z",
        "outputId": "85180ee3-536a-4e97-85d2-75f411253ccd",
        "colab": {
          "base_uri": "https://localhost:8080/"
        }
      },
      "execution_count": 33,
      "outputs": [
        {
          "output_type": "stream",
          "name": "stdout",
          "text": [
            "(60000, 28, 28)\n",
            "(60000, 784)\n"
          ]
        }
      ]
    },
    {
      "cell_type": "markdown",
      "source": [
        "또한 케라스는 데이터를 0 에서 1 사이의 값으로 변환한 다음 구동할 때 최적의 성능을 보인다. 따라서 현재 0~255 사이의 값으로 이루어진 값을 0 ~ 1 사이의 값으로 바꿔 주어야 한다."
      ],
      "metadata": {
        "id": "O4QuXb2r0JOT"
      }
    },
    {
      "cell_type": "code",
      "source": [
        "X_train = X_train.astype('float64')\n",
        "X_train = X_train / 255\n",
        "\n",
        "X_test = X_test.reshape(X_test.shape[0], 784).astype('float64') / 255"
      ],
      "metadata": {
        "id": "-Mj_jsW4pLo1"
      },
      "execution_count": 34,
      "outputs": []
    },
    {
      "cell_type": "code",
      "source": [
        "print(\"class : %d \" % (Y_class_train[0]))"
      ],
      "metadata": {
        "colab": {
          "base_uri": "https://localhost:8080/"
        },
        "id": "bRWp4XEtrMkC",
        "outputId": "4a2d7827-69e8-467a-a04d-657ac2018ca9"
      },
      "execution_count": 35,
      "outputs": [
        {
          "output_type": "stream",
          "name": "stdout",
          "text": [
            "class : 5 \n"
          ]
        }
      ]
    },
    {
      "cell_type": "markdown",
      "source": [
        "다음으로는 '아이리스 품종 예측' 모델에서와 같이 분류 문제이므로 '원-핫 인코딩'을 해주어야 한다."
      ],
      "metadata": {
        "id": "bE7maL222nNG"
      }
    },
    {
      "cell_type": "code",
      "source": [
        "from keras.utils import np_utils\n",
        "\n",
        "Y_train = np_utils.to_categorical(Y_class_train, 10)\n",
        "Y_test = np_utils.to_categorical(Y_class_test, 10)"
      ],
      "metadata": {
        "id": "4r42FN4crsQK"
      },
      "execution_count": 39,
      "outputs": []
    },
    {
      "cell_type": "code",
      "source": [
        "print(Y_train[0])"
      ],
      "metadata": {
        "id": "8ORMFIRP3zGJ",
        "outputId": "85be3bd9-6326-481a-ec2a-709eaf879db7",
        "colab": {
          "base_uri": "https://localhost:8080/"
        }
      },
      "execution_count": 40,
      "outputs": [
        {
          "output_type": "stream",
          "name": "stdout",
          "text": [
            "[0. 0. 0. 0. 0. 1. 0. 0. 0. 0.]\n"
          ]
        }
      ]
    },
    {
      "cell_type": "markdown",
      "source": [
        "## 데이터 전처리 전체 과정 정리\n",
        "\n",
        "```\n",
        "from keras.datasets import mnist\n",
        "from keras.utils import np_utils\n",
        "\n",
        "(X_train, Y_train), (X_test, Y_test) = mnist.load_data()\n",
        "\n",
        "X_train = X_train.reshape(X_train.shape[0], 784).astype('float64') / 255\n",
        "X_test = X_test.reshape(X_test.shape[0], 784).astype('float64') / 255\n",
        "\n",
        "Y_train = np_utils.to_categorical(Y_train, 10)\n",
        "Y_test = np_utils.to_categorical(Y_test, 10)\n",
        "```"
      ],
      "metadata": {
        "id": "ZwSOhfiq4J-w"
      }
    },
    {
      "cell_type": "markdown",
      "source": [
        "## 프레임 설정\n",
        "\n",
        "이번에는 프레임을 설정할 것이다.\n",
        "\n",
        "총 784개의 속성과 10개의 클래스가 있으니 다음과 같이 만들 수 있다."
      ],
      "metadata": {
        "id": "Hea53La84zst"
      }
    },
    {
      "cell_type": "code",
      "source": [
        "from tensorflow.keras.models import Sequential\n",
        "from tensorflow.keras.layers import Dense\n",
        "\n",
        "import pandas as pd\n",
        "import matplotlib.pyplot as plt\n",
        "import numpy as np\n",
        "import tensorflow as tf\n",
        "\n",
        "model = Sequential()\n",
        "model.add(Dense(512, input_dim = 784, activation='relu'))\n",
        "model.add(Dense(10, activation='softmax'))                  # 이중 분류 - Dense(1, activation='sigmoid')"
      ],
      "metadata": {
        "id": "snZQS1Da307e"
      },
      "execution_count": 42,
      "outputs": []
    },
    {
      "cell_type": "code",
      "source": [
        "model.compile(loss = 'categorical_crossentropy',\n",
        "              optimizer = 'adam',\n",
        "              metrics = ['accuracy'])"
      ],
      "metadata": {
        "id": "wa_8BEFc53sn"
      },
      "execution_count": 43,
      "outputs": []
    },
    {
      "cell_type": "markdown",
      "source": [
        "오차 함수로 이전 15장의 수치 예측에서는 **'mean_squred_error' 평균제곱오차** 또는 **평균 절대 오차** 등을 사용할 수 있고,\n",
        "\n",
        "분류문제에서는 이중분류는 **'binary_crossentropy' 이항 교차 엔트로피**, 다중분류에서는 **'categorical_crossentropy' 범주형 교차 엔트로피**를 사용할 수 있다."
      ],
      "metadata": {
        "id": "A3Jn3WiL6kv1"
      }
    },
    {
      "cell_type": "markdown",
      "source": [
        "모델 실행에 앞서 모델의 성과를 저장하고 최적화 단계에서 학습을 중단하게끔 설정할 것이다.\n",
        "\n",
        "10회 이상 성과 향상이 없을 시 자동으로 학습을 중단한다."
      ],
      "metadata": {
        "id": "uGRtRKbC7FeQ"
      }
    },
    {
      "cell_type": "code",
      "source": [
        "import os\n",
        "from keras.callbacks import ModelCheckpoint, EarlyStopping\n",
        "\n",
        "MODEL_DIR = './model/'\n",
        "if not os.path.exists(MODEL_DIR):\n",
        "  os.mkdir(MODEL_DIR)\n",
        "\n",
        "modelpath = MODEL_DIR + '{epoch:02d}-{val_loss:.4f}.hdf5'\n",
        "\n",
        "checkpointer = ModelCheckpoint(filepath=modelpath, monitor = 'val_loss',\n",
        "                               verbose = 1, save_best_only = True)\n",
        "\n",
        "early_stopping_callback = EarlyStopping(monitor='val_loss', patience = 10)"
      ],
      "metadata": {
        "id": "JO_kG9Bz6_W0"
      },
      "execution_count": 44,
      "outputs": []
    },
    {
      "cell_type": "code",
      "source": [
        "score = model.evaluate(X_test, Y_test)\n",
        "print(\"Test loss: %.4f, Test Accuracy: %.4f\" % (score[0], score[1]))"
      ],
      "metadata": {
        "id": "xqQ94G5WAKKk",
        "outputId": "202fb1cb-fb3e-4f31-bfbf-aa6a776dc5de",
        "colab": {
          "base_uri": "https://localhost:8080/"
        }
      },
      "execution_count": 60,
      "outputs": [
        {
          "output_type": "stream",
          "name": "stdout",
          "text": [
            "313/313 [==============================] - 1s 3ms/step - loss: 0.0659 - accuracy: 0.9844\n",
            "Test loss: 0.0659, Test Accuracy: 0.9844\n"
          ]
        }
      ]
    },
    {
      "cell_type": "code",
      "source": [
        "history = model.fit(X_train, Y_train, validation_data=(X_test, Y_test), epochs = 30,\n",
        "                    batch_size = 200, verbose = 0,\n",
        "                    callbacks = [early_stopping_callback, checkpointer])\n",
        "\n",
        "print(\"\\n Test Accuracy: %.4f\" % (model.evaluate(X_test, Y_test)[1]))"
      ],
      "metadata": {
        "id": "a726Go3c76Ga",
        "outputId": "bb3945b6-96f3-45f0-eca5-dfc95366d473",
        "colab": {
          "base_uri": "https://localhost:8080/"
        }
      },
      "execution_count": 45,
      "outputs": [
        {
          "output_type": "stream",
          "name": "stdout",
          "text": [
            "\n",
            "Epoch 1: val_loss improved from inf to 0.15404, saving model to ./model/01-0.1540.hdf5\n",
            "\n",
            "Epoch 2: val_loss improved from 0.15404 to 0.10524, saving model to ./model/02-0.1052.hdf5\n",
            "\n",
            "Epoch 3: val_loss improved from 0.10524 to 0.08111, saving model to ./model/03-0.0811.hdf5\n",
            "\n",
            "Epoch 4: val_loss improved from 0.08111 to 0.07881, saving model to ./model/04-0.0788.hdf5\n",
            "\n",
            "Epoch 5: val_loss improved from 0.07881 to 0.06807, saving model to ./model/05-0.0681.hdf5\n",
            "\n",
            "Epoch 6: val_loss improved from 0.06807 to 0.06438, saving model to ./model/06-0.0644.hdf5\n",
            "\n",
            "Epoch 7: val_loss improved from 0.06438 to 0.05998, saving model to ./model/07-0.0600.hdf5\n",
            "\n",
            "Epoch 8: val_loss improved from 0.05998 to 0.05982, saving model to ./model/08-0.0598.hdf5\n",
            "\n",
            "Epoch 9: val_loss improved from 0.05982 to 0.05926, saving model to ./model/09-0.0593.hdf5\n",
            "\n",
            "Epoch 10: val_loss did not improve from 0.05926\n",
            "\n",
            "Epoch 11: val_loss did not improve from 0.05926\n",
            "\n",
            "Epoch 12: val_loss did not improve from 0.05926\n",
            "\n",
            "Epoch 13: val_loss did not improve from 0.05926\n",
            "\n",
            "Epoch 14: val_loss did not improve from 0.05926\n",
            "\n",
            "Epoch 15: val_loss improved from 0.05926 to 0.05905, saving model to ./model/15-0.0590.hdf5\n",
            "\n",
            "Epoch 16: val_loss did not improve from 0.05905\n",
            "\n",
            "Epoch 17: val_loss did not improve from 0.05905\n",
            "\n",
            "Epoch 18: val_loss did not improve from 0.05905\n",
            "\n",
            "Epoch 19: val_loss did not improve from 0.05905\n",
            "\n",
            "Epoch 20: val_loss did not improve from 0.05905\n",
            "\n",
            "Epoch 21: val_loss did not improve from 0.05905\n",
            "\n",
            "Epoch 22: val_loss did not improve from 0.05905\n",
            "\n",
            "Epoch 23: val_loss did not improve from 0.05905\n",
            "\n",
            "Epoch 24: val_loss did not improve from 0.05905\n",
            "\n",
            "Epoch 25: val_loss did not improve from 0.05905\n",
            "313/313 [==============================] - 1s 3ms/step - loss: 0.0659 - accuracy: 0.9844\n",
            "\n",
            " Test Accuracy: 0.9844\n"
          ]
        }
      ]
    },
    {
      "cell_type": "markdown",
      "source": [
        "\n",
        "![image.png](data:image/png;base64,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)"
      ],
      "metadata": {
        "id": "SubpSIYO8_IV"
      }
    },
    {
      "cell_type": "code",
      "source": [
        "#실행결과 그래프로 표현\n",
        "\n",
        "import matplotlib.pyplot as plt\n",
        "\n",
        "y_vloss = history.history['val_loss']\n",
        "\n",
        "#학습셋 오차\n",
        "y_loss = history.history['loss']\n",
        "\n",
        "#그래프로 표현\n",
        "x_len = np.arange(len(y_loss))\n",
        "plt.plot(x_len, y_vloss, marker = '.', c = 'red',\n",
        "         label = 'Testset_loss')\n",
        "plt.plot(x_len, y_loss, marker = '.', c = 'blue',\n",
        "         label = 'Trainset_loss')\n",
        "plt.scatter(14, 0.059, c = 'green', label = 'best')\n",
        "#그래프에 그리드를 주고 레이블을 표시\n",
        "plt.legend(loc='upper right')\n",
        "plt.grid()\n",
        "plt.xlabel('epoch')\n",
        "plt.ylabel('loss')\n",
        "plt.show()"
      ],
      "metadata": {
        "id": "kDlXjAcv8ZD5",
        "outputId": "aa6d770d-ca30-4be1-df8b-8e60bcbbc350",
        "colab": {
          "base_uri": "https://localhost:8080/",
          "height": 279
        }
      },
      "execution_count": 54,
      "outputs": [
        {
          "output_type": "display_data",
          "data": {
            "text/plain": [
              "<Figure size 432x288 with 1 Axes>"
            ],
            "image/png": "[encoded data removed]"
          },
          "metadata": {
            "needs_background": "light"
          }
        }
      ]
    },
    {
      "cell_type": "markdown",
      "source": [
        "과적합이 일어나기 전에 학습을 끝낸 것을 확인할 수 있으며 학습셋의 오차는 꾸준히 줄어드는 것을 볼 수 있다."
      ],
      "metadata": {
        "id": "mBwOPQx8-pLD"
      }
    },
    {
      "cell_type": "code",
      "source": [
        "# 전체 코드\n",
        "\n",
        "from keras.datasets import mnist\n",
        "from keras.utils import np_utils\n",
        "from tensorflow.keras.models import Sequential\n",
        "from tensorflow.keras.layers import Dense\n",
        "\n",
        "import pandas as pd\n",
        "import matplotlib.pyplot as plt\n",
        "import numpy as np\n",
        "import os\n",
        "import tensorflow as tf\n",
        "\n",
        "#seed 값 설정\n",
        "seed = 0\n",
        "np.random.seed(seed)\n",
        "tf.random.set_seed(seed)\n",
        "\n",
        "#데이터 로드드\n",
        "(X_train, Y_train), (X_test, Y_test) = mnist.load_data()\n",
        "\n",
        "X_train = X_train.reshape(X_train.shape[0], 784).astype('float64') / 255\n",
        "X_test = X_test.reshape(X_test.shape[0], 784).astype('float64') / 255\n",
        "\n",
        "Y_train = np_utils.to_categorical(Y_train, 10)\n",
        "Y_test = np_utils.to_categorical(Y_test, 10)\n",
        "\n",
        "#모델 프레임 설정정\n",
        "model2 = Sequential()\n",
        "model2.add(Dense(512, input_dim = 784, activation='relu'))\n",
        "model2.add(Dense(10, activation='softmax'))    \n",
        "\n",
        "#모델 실행 환경 설정\n",
        "model2.compile(loss = 'categorical_crossentropy',\n",
        "              optimizer = 'adam',\n",
        "              metrics = ['accuracy'])\n",
        "\n",
        "#모델 최적화 설정\n",
        "MODEL_DIR = './model2/'\n",
        "if not os.path.exists(MODEL_DIR):\n",
        "  os.mkdir(MODEL_DIR)\n",
        "\n",
        "modelpath = MODEL_DIR + '{epoch:02d}-{val_loss:.4f}.hdf5'\n",
        "\n",
        "checkpointer = ModelCheckpoint(filepath=modelpath, monitor = 'val_loss',\n",
        "                               verbose = 1, save_best_only = True)\n",
        "\n",
        "early_stopping_callback = EarlyStopping(monitor='val_loss', patience = 10)\n",
        "\n",
        "history = model2.fit(X_train, Y_train, validation_data=(X_test, Y_test), epochs = 30,\n",
        "                    batch_size = 200, verbose = 0,\n",
        "                    callbacks = [early_stopping_callback, checkpointer])\n",
        "\n",
        "print(\"\\n Test Accuracy: %.4f\" % (model2.evaluate(X_test, Y_test)[1]))\n",
        "\n",
        "#테스트셋 오차\n",
        "y_vloss = history.history['val_loss']\n",
        "\n",
        "#학습셋 오차\n",
        "y_loss = history.history['loss']\n",
        "\n",
        "#그래프로 표현\n",
        "x_len = np.arange(len(y_loss))\n",
        "plt.plot(x_len, y_vloss, marker = '.', c = 'red',\n",
        "         label = 'Testset_loss')\n",
        "plt.plot(x_len, y_loss, marker = '.', c = 'blue',\n",
        "         label = 'Trainset_loss')\n",
        "\n",
        "#그래프에 그리드를 주고 레이블을 표시\n",
        "plt.legend(loc='upper right')\n",
        "plt.grid()\n",
        "plt.xlabel('epoch')\n",
        "plt.ylabel('loss')\n",
        "plt.show()"
      ],
      "metadata": {
        "id": "JkQTgvSC90iX",
        "outputId": "55d98c58-4413-4456-f0df-ddf089616621",
        "colab": {
          "base_uri": "https://localhost:8080/",
          "height": 1000
        }
      },
      "execution_count": 61,
      "outputs": [
        {
          "output_type": "stream",
          "name": "stdout",
          "text": [
            "\n",
            "Epoch 1: val_loss improved from inf to 0.15273, saving model to ./model2/01-0.1527.hdf5\n",
            "\n",
            "Epoch 2: val_loss improved from 0.15273 to 0.10604, saving model to ./model2/02-0.1060.hdf5\n",
            "\n",
            "Epoch 3: val_loss improved from 0.10604 to 0.08148, saving model to ./model2/03-0.0815.hdf5\n",
            "\n",
            "Epoch 4: val_loss improved from 0.08148 to 0.07761, saving model to ./model2/04-0.0776.hdf5\n",
            "\n",
            "Epoch 5: val_loss improved from 0.07761 to 0.06872, saving model to ./model2/05-0.0687.hdf5\n",
            "\n",
            "Epoch 6: val_loss improved from 0.06872 to 0.06671, saving model to ./model2/06-0.0667.hdf5\n",
            "\n",
            "Epoch 7: val_loss improved from 0.06671 to 0.06097, saving model to ./model2/07-0.0610.hdf5\n",
            "\n",
            "Epoch 8: val_loss did not improve from 0.06097\n",
            "\n",
            "Epoch 9: val_loss improved from 0.06097 to 0.06070, saving model to ./model2/09-0.0607.hdf5\n",
            "\n",
            "Epoch 10: val_loss did not improve from 0.06070\n",
            "\n",
            "Epoch 11: val_loss did not improve from 0.06070\n",
            "\n",
            "Epoch 12: val_loss did not improve from 0.06070\n",
            "\n",
            "Epoch 13: val_loss did not improve from 0.06070\n",
            "\n",
            "Epoch 14: val_loss improved from 0.06070 to 0.06064, saving model to ./model2/14-0.0606.hdf5\n",
            "\n",
            "Epoch 15: val_loss did not improve from 0.06064\n",
            "\n",
            "Epoch 16: val_loss did not improve from 0.06064\n",
            "\n",
            "Epoch 17: val_loss did not improve from 0.06064\n",
            "\n",
            "Epoch 18: val_loss did not improve from 0.06064\n",
            "\n",
            "Epoch 19: val_loss did not improve from 0.06064\n",
            "\n",
            "Epoch 20: val_loss did not improve from 0.06064\n",
            "\n",
            "Epoch 21: val_loss did not improve from 0.06064\n",
            "\n",
            "Epoch 22: val_loss did not improve from 0.06064\n",
            "\n",
            "Epoch 23: val_loss did not improve from 0.06064\n",
            "\n",
            "Epoch 24: val_loss did not improve from 0.06064\n",
            "313/313 [==============================] - 1s 3ms/step - loss: 0.0663 - accuracy: 0.9833\n",
            "\n",
            " Test Accuracy: 0.9833\n"
          ]
        },
        {
          "output_type": "display_data",
          "data": {
            "text/plain": [
              "<Figure size 432x288 with 1 Axes>"
            ],
            "image/png": "[encoded data removed]"
          },
          "metadata": {
            "needs_background": "light"
          }
        }
      ]
    }
  ]
}
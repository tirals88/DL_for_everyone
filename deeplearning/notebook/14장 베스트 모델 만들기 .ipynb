{
  "nbformat": 4,
  "nbformat_minor": 0,
  "metadata": {
    "colab": {
      "provenance": [],
      "collapsed_sections": [
        "mSvnn-ZWd9ef",
        "UhcQBmxwO5Vm"
      ],
      "include_colab_link": true
    },
    "kernelspec": {
      "name": "python3",
      "display_name": "Python 3"
    },
    "language_info": {
      "name": "python"
    }
  },
  "cells": [
    {
      "cell_type": "markdown",
      "metadata": {
        "id": "view-in-github",
        "colab_type": "text"
      },
      "source": [
        "<a href=\"https://colab.research.google.com/github/tirals88/DL_for_everyone/blob/main/deeplearning/notebook/14%EC%9E%A5%20%EB%B2%A0%EC%8A%A4%ED%8A%B8%20%EB%AA%A8%EB%8D%B8%20%EB%A7%8C%EB%93%A4%EA%B8%B0%20.ipynb\" target=\"_parent\"><img src=\"https://colab.research.google.com/assets/colab-badge.svg\" alt=\"Open In Colab\"/></a>"
      ]
    },
    {
      "cell_type": "markdown",
      "source": [
        "'모두의 딥러닝' 책 스터디 내용을 jupyter notebook으로 정리하여 올립니다.\n",
        "\n",
        "Github 주소 : 'https://github.com/gilbutITbook/080228'\n",
        "\n",
        "**모두의 딥러닝**"
      ],
      "metadata": {
        "id": "WdeE-kzODzDl"
      }
    },
    {
      "cell_type": "markdown",
      "source": [
        "# 14 장 베스트 모델 만들기\n",
        "\n",
        "이번 장에서는 레드와인과 화이트와인을 구분하는 모델을 볼 것이다.\n",
        "데이터는 레드와인 샘플 1599개를 등급과 맛, 산도를 측정해 분석하고, 화이트와인 샘플 4898개를 마찬가지로 분석해 하나로 합친 것이다."
      ],
      "metadata": {
        "id": "mSvnn-ZWd9ef"
      }
    },
    {
      "cell_type": "code",
      "source": [
        "# 데이터 확인\n",
        "import pandas as pd\n",
        "\n",
        "df_pre = pd.read_csv('https://raw.githubusercontent.com/gilbutITbook/080228/master/deeplearning/dataset/wine.csv', header=None)\n",
        "df = df_pre.sample(frac=1)"
      ],
      "metadata": {
        "id": "eKROL3263FGD"
      },
      "execution_count": 16,
      "outputs": []
    },
    {
      "cell_type": "markdown",
      "source": [
        "sample 함수는 원본 데이터에서 정해진 비율만큼 랜덤으로 뽑아오는 함수이다.\n",
        "\n",
        "frac = 1 이라고 지정하면 원본 데이터의 100%를 랜덤으로 불러오라는 의미이다.\n",
        "\n",
        "frac = .5 로 지정하면 50%만 랜덤으로 불러온다."
      ],
      "metadata": {
        "id": "9tIrmU5J76BT"
      }
    },
    {
      "cell_type": "code",
      "source": [
        "#랜덤으로 모두 불러온 원본 데이터 처음 5줄 출력\n",
        "print(df.head(5))"
      ],
      "metadata": {
        "id": "GP2f8dFf8Mze",
        "outputId": "ca4c3d4f-f16a-4770-b3cc-c008a0269dd1",
        "colab": {
          "base_uri": "https://localhost:8080/"
        }
      },
      "execution_count": 17,
      "outputs": [
        {
          "output_type": "stream",
          "name": "stdout",
          "text": [
            "        0      1     2     3      4     5      6        7     8     9      10  \\\n",
            "6245   5.9  0.180  0.28   1.0  0.037  24.0   88.0  0.99094  3.29  0.55  10.65   \n",
            "486   10.2  0.670  0.39   1.9  0.054   6.0   17.0  0.99760  3.17  0.47  10.00   \n",
            "273    8.4  0.715  0.20   2.4  0.076  10.0   38.0  0.99735  3.31  0.64   9.40   \n",
            "1993   6.8  0.370  0.51  11.8  0.044  62.0  163.0  0.99760  3.19  0.44   8.80   \n",
            "885    8.9  0.750  0.14   2.5  0.086   9.0   30.0  0.99824  3.34  0.64  10.50   \n",
            "\n",
            "      11  12  \n",
            "6245   7   0  \n",
            "486    5   1  \n",
            "273    5   1  \n",
            "1993   5   0  \n",
            "885    5   1  \n"
          ]
        }
      ]
    },
    {
      "cell_type": "markdown",
      "source": [
        "한 줄당 모두 13개의 정보가 있는 것을 확인할 수 있다.\n"
      ],
      "metadata": {
        "id": "QYmBX5kCtjJc"
      }
    },
    {
      "cell_type": "code",
      "source": [
        "#전체 정보 출력\n",
        "print(df.info())"
      ],
      "metadata": {
        "id": "Cb_I5ZmD8fR0",
        "outputId": "c9154141-a489-498b-8bd2-8e5a3ae6629c",
        "colab": {
          "base_uri": "https://localhost:8080/"
        }
      },
      "execution_count": 18,
      "outputs": [
        {
          "output_type": "stream",
          "name": "stdout",
          "text": [
            "<class 'pandas.core.frame.DataFrame'>\n",
            "Int64Index: 6497 entries, 6245 to 5994\n",
            "Data columns (total 13 columns):\n",
            " #   Column  Non-Null Count  Dtype  \n",
            "---  ------  --------------  -----  \n",
            " 0   0       6497 non-null   float64\n",
            " 1   1       6497 non-null   float64\n",
            " 2   2       6497 non-null   float64\n",
            " 3   3       6497 non-null   float64\n",
            " 4   4       6497 non-null   float64\n",
            " 5   5       6497 non-null   float64\n",
            " 6   6       6497 non-null   float64\n",
            " 7   7       6497 non-null   float64\n",
            " 8   8       6497 non-null   float64\n",
            " 9   9       6497 non-null   float64\n",
            " 10  10      6497 non-null   float64\n",
            " 11  11      6497 non-null   int64  \n",
            " 12  12      6497 non-null   int64  \n",
            "dtypes: float64(11), int64(2)\n",
            "memory usage: 710.6 KB\n",
            "None\n"
          ]
        }
      ]
    },
    {
      "cell_type": "markdown",
      "source": [
        "처음 12개의 데이터는 와인의 pH, 알코올 도수, 염화나트륨 농도, 맛(~10 등급) 등의 정보이고, 13번째 데이터 'class' 는 1 : 레드와인, 0 : 화이트와인을 나타낸다."
      ],
      "metadata": {
        "id": "SKhsXyts8s7k"
      }
    },
    {
      "cell_type": "code",
      "source": [
        "dataset = df.values\n",
        "X = dataset[:, 0:12]\n",
        "Y = dataset[:, 12]"
      ],
      "metadata": {
        "id": "bHoApU019BAR"
      },
      "execution_count": 19,
      "outputs": []
    },
    {
      "cell_type": "code",
      "source": [
        "from keras.models import Sequential\n",
        "from keras.layers import Dense\n",
        "from keras.callbacks import ModelCheckpoint, EarlyStopping\n",
        "\n",
        "import pandas as pd\n",
        "import numpy as np\n",
        "import tensorflow as tf\n",
        "import matplotlib.pyplot as petal_length\n",
        "\n",
        "#seed 값 설정\n",
        "seed = 3\n",
        "np.random.seed(seed)\n",
        "tf.random.set_seed(seed)\n",
        "\n",
        "#모델 설정\n",
        "#수정예정"
      ],
      "metadata": {
        "id": "E1oHkJuqAq_z"
      },
      "execution_count": 20,
      "outputs": []
    }
  ]
}
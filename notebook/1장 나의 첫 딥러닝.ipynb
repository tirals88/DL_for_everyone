{
  "nbformat": 4,
  "nbformat_minor": 0,
  "metadata": {
    "colab": {
      "provenance": [],
      "collapsed_sections": [
        "mSvnn-ZWd9ef",
        "UhcQBmxwO5Vm"
      ],
      "include_colab_link": true
    },
    "kernelspec": {
      "name": "python3",
      "display_name": "Python 3"
    },
    "language_info": {
      "name": "python"
    }
  },
  "cells": [
    {
      "cell_type": "markdown",
      "metadata": {
        "id": "view-in-github",
        "colab_type": "text"
      },
      "source": [
        "<a href=\"https://colab.research.google.com/github/tirals88/DL_for_everyone/blob/main/notebook/1%EC%9E%A5%20%EB%82%98%EC%9D%98%20%EC%B2%AB%20%EB%94%A5%EB%9F%AC%EB%8B%9D.ipynb\" target=\"_parent\"><img src=\"https://colab.research.google.com/assets/colab-badge.svg\" alt=\"Open In Colab\"/></a>"
      ]
    },
    {
      "cell_type": "markdown",
      "source": [
        "'모두의 딥러닝' 책 스터디 내용을 jupyter notebook으로 정리하여 올립니다.\n",
        "\n",
        "Github 주소 : 'https://github.com/gilbutITbook/080228'\n",
        "\n",
        "**모두의 딥러닝**\n",
        "\n"
      ],
      "metadata": {
        "id": "WdeE-kzODzDl"
      }
    },
    {
      "cell_type": "markdown",
      "source": [
        "# 01 장 나의 첫 딥러닝"
      ],
      "metadata": {
        "id": "mSvnn-ZWd9ef"
      }
    },
    {
      "cell_type": "code",
      "source": [
        "# 폐암 수술 환자의 생존율 예측하기 실습 / 예제 코드\n",
        "\n",
        "# 딥러닝 구동으리 위한 케라스 함수 호출\n",
        "\n",
        "from tensorflow.keras.models import Sequential\n",
        "from tensorflow.keras.layers import Dense\n",
        "\n",
        "#필요한 라이브러리 불러오기\n",
        "\n",
        "import numpy as np\n",
        "import tensorflow as tf\n",
        "\n",
        "# 실행할 때마다 같은 결과를 출력하기 위해 설정하는 부분\n",
        "\n",
        "np.random.seed(3)\n",
        "tf.random.set_seed(3)\n",
        "\n",
        "# 준비된 수술 환자 데이터 불러오기\n",
        "Data_set = np.loadtxt(\".../dataset/ThoraricSurgery.csv\", delimiter=\",\")"
      ],
      "metadata": {
        "id": "mty06N0Us27w"
      },
      "execution_count": null,
      "outputs": []
    },
    {
      "cell_type": "markdown",
      "source": [
        "이 때 하나의 생선 데이터를 샘플 sample 이라고 부르자. 총 49개의 샘플이 있으며 사용하는 특성은 길이와 무게 2개이다.<br/>먼저 앞 35개를 훈련세트, 14개를 테스트 세트로 사용할 것이다."
      ],
      "metadata": {
        "id": "9r0M6UHLgu1j"
      }
    },
    {
      "cell_type": "code",
      "source": [
        "train_input = fish_data[:35]\n",
        "train_target = fish_target[:35]\n",
        "\n",
        "test_input = fish_data[35:]\n",
        "test_target = fish_target[35:]\n",
        "\n",
        "from sklearn.neighbors import KNeighborsClassifier\n",
        "kn = KNeighborsClassifier()\n",
        "\n",
        "kn = kn.fit(train_input, train_target)\n",
        "kn.score(test_input, test_target)"
      ],
      "metadata": {
        "id": "DApN7I1ctmlp",
        "outputId": "7e9f7af5-c388-4501-9466-c8d1299f7d6e",
        "colab": {
          "base_uri": "https://localhost:8080/"
        }
      },
      "execution_count": null,
      "outputs": [
        {
          "output_type": "execute_result",
          "data": {
            "text/plain": [
              "0.0"
            ]
          },
          "metadata": {},
          "execution_count": 17
        }
      ]
    },
    {
      "cell_type": "markdown",
      "source": [
        "정확도가 0으로 나온 이유는 생선 데이터에는 도미와 빙어가 있지만, 훈련 데이터에는 빙어의 데이터가 없기 때문에 빙어를 올바르게 분류할 수가 없다.\n",
        "\n",
        "훈련 세트와 테스트 세트를 나누려면 도미와 빙어가 골고루 섞이게 만들어야 한다.\n",
        "\n",
        "이러한 골고루 섞여 있지 않는 것을 치우쳤다는 의미로 **샘플링 편향 sampling bias**라고 부른다."
      ],
      "metadata": {
        "id": "5VhmMKSbu3zk"
      }
    },
    {
      "cell_type": "markdown",
      "source": [
        "## 넘파이 Numpy\n",
        "\n",
        "파이썬의 리스트로 2차원 리스트를 표현할 수 있지만 고차원 리스트를 표현하려면 매우 번거롭다. 넘파이는 고차원의 배열을 손쉽게 만들고 조작할 수 있는 도구를 많이 제공한다."
      ],
      "metadata": {
        "id": "9DUihCKzvX71"
      }
    },
    {
      "cell_type": "code",
      "execution_count": null,
      "metadata": {
        "id": "BK3oK_a80Tt3",
        "colab": {
          "base_uri": "https://localhost:8080/"
        },
        "outputId": "606107eb-97ca-41d3-fc3d-78254c20acd5"
      },
      "outputs": [
        {
          "output_type": "stream",
          "name": "stdout",
          "text": [
            "[[ 25.4 242. ]\n",
            " [ 26.3 290. ]\n",
            " [ 26.5 340. ]\n",
            " [ 29.  363. ]\n",
            " [ 29.  430. ]\n",
            " [ 29.7 450. ]\n",
            " [ 29.7 500. ]\n",
            " [ 30.  390. ]]\n"
          ]
        }
      ],
      "source": [
        "import numpy as np\n",
        "\n",
        "input_arr = np.array(fish_data)\n",
        "target_arr = np.array(fish_target)\n",
        "\n",
        "print(input_arr[:8])"
      ]
    },
    {
      "cell_type": "markdown",
      "source": [
        "이제 이 배열에서 랜덤하게 샘플을 선택해 훈련 세트와 테스트 세트로 만들 차례이다.\n",
        "\n",
        "여기에서는 섞은 후 나누는 방식 대신, 무작위로 샘플을 고르는 방법을 사용할 것이다.\n",
        "\n",
        "**주의 할 점은 input_arr 와 target_arr에서 같은 위치는 함께 선택되어야 한다는 점이다.**\n",
        "\n",
        "항상 인덱스 값을 기억할 수는 없으니 인덱스를 섞은 다음 input_arr 와 target_arr에서 샘플을 선택하면 무작위로 훈련 세트를 나누느 셈이 된다."
      ],
      "metadata": {
        "id": "m3ydM5zWjClI"
      }
    },
    {
      "cell_type": "code",
      "source": [
        "# arange() 함수를 사용하여 0~48 까지의 인덱스를 만들고 인덱스를 랜덤하게 섞는다\n",
        "\n",
        "np.random.seed(42) #시드 고정\n",
        "index = np.arange(49)\n",
        "np.random.shuffle(index)\n",
        "\n",
        "print(index)"
      ],
      "metadata": {
        "colab": {
          "base_uri": "https://localhost:8080/"
        },
        "id": "SFI5ArK4hiQI",
        "outputId": "49476fcc-5911-4348-a437-7cb9832690d1"
      },
      "execution_count": null,
      "outputs": [
        {
          "output_type": "stream",
          "name": "stdout",
          "text": [
            "[13 45 47 44 17 27 26 25 31 19 12  4 34  8  3  6 40 41 46 15  9 16 24 33\n",
            " 30  0 43 32  5 29 11 36  1 21  2 37 35 23 39 10 22 18 48 20  7 42 14 28\n",
            " 38]\n"
          ]
        }
      ]
    },
    {
      "cell_type": "markdown",
      "source": [
        "넘파이는 슬라이싱 외에 **배열 인덱싱 array indexing** 이란 기능을 제공한다. 1개의 인덱스가 아닌, 여러개의 인덱스로 한 번에 여러개의 원소를 선택할 수 있다."
      ],
      "metadata": {
        "id": "vVKEplznkIOO"
      }
    },
    {
      "cell_type": "code",
      "source": [
        "print(input_arr[1])\n",
        "print('\\n')\n",
        "print(input_arr[[1,3]])"
      ],
      "metadata": {
        "colab": {
          "base_uri": "https://localhost:8080/"
        },
        "id": "TbvtSstokhBy",
        "outputId": "45d2434a-4fd1-420e-f499-3f9ea5599c6c"
      },
      "execution_count": null,
      "outputs": [
        {
          "output_type": "stream",
          "name": "stdout",
          "text": [
            "[ 26.3 290. ]\n",
            "\n",
            "\n",
            "[[ 26.3 290. ]\n",
            " [ 29.  363. ]]\n"
          ]
        }
      ]
    },
    {
      "cell_type": "code",
      "source": [
        "# 랜덤하게 35개의 샘플을 훈련 세트로 지정\n",
        "\n",
        "train_input = input_arr[index[:35]]\n",
        "train_target = target_arr[index[:35]]\n",
        "\n",
        "print(input_arr[13], train_input[0]) # index[0] = 13"
      ],
      "metadata": {
        "colab": {
          "base_uri": "https://localhost:8080/"
        },
        "id": "szU6Aai8lhU3",
        "outputId": "94112fd9-77b6-49d3-dc10-6ad29a2efcd3"
      },
      "execution_count": null,
      "outputs": [
        {
          "output_type": "stream",
          "name": "stdout",
          "text": [
            "[ 32. 340.] [ 32. 340.]\n"
          ]
        }
      ]
    },
    {
      "cell_type": "code",
      "source": [
        "test_input = input_arr[index[35:]]\n",
        "test_target = target_arr[index[35:]]\n",
        "\n",
        "import matplotlib.pyplot as plt\n",
        "plt.scatter(train_input[:, 0], train_input[:, 1], label = 'train')\n",
        "plt.scatter(test_input[:, 0], test_input[:, 1], label = 'target')\n",
        "plt.xlabel('length')\n",
        "plt.ylabel('weight')\n",
        "plt.legend()\n",
        "plt.show() # 데이터가 골고루 섞였음을 볼 수 있다."
      ],
      "metadata": {
        "colab": {
          "base_uri": "https://localhost:8080/",
          "height": 279
        },
        "id": "EQLsNpevlhMU",
        "outputId": "be636876-db61-4dd2-a76b-c248a80d01cf"
      },
      "execution_count": null,
      "outputs": [
        {
          "output_type": "display_data",
          "data": {
            "text/plain": [
              "<Figure size 432x288 with 1 Axes>"
            ],
            "image/png": "[encoded data removed]"
          },
          "metadata": {
            "needs_background": "light"
          }
        }
      ]
    },
    {
      "cell_type": "markdown",
      "source": [
        "## 두 번쨰 머신러닝 프로그램\n"
      ],
      "metadata": {
        "id": "H28WiQyxm18g"
      }
    },
    {
      "cell_type": "code",
      "source": [
        "kn = kn.fit(train_input, train_target)\n",
        "kn.score(test_input, test_target)"
      ],
      "metadata": {
        "colab": {
          "base_uri": "https://localhost:8080/"
        },
        "id": "u9zUSmKOnPHI",
        "outputId": "367b7580-e5ca-4b52-bb9b-245e15625e91"
      },
      "execution_count": null,
      "outputs": [
        {
          "output_type": "execute_result",
          "data": {
            "text/plain": [
              "1.0"
            ]
          },
          "metadata": {},
          "execution_count": 34
        }
      ]
    },
    {
      "cell_type": "code",
      "source": [
        "# _predict() 메서드로 테스트 세트 예측결과와 실제 타깃 확인\n",
        "\n",
        "print(kn.predict(test_input))\n",
        "print(test_target)"
      ],
      "metadata": {
        "colab": {
          "base_uri": "https://localhost:8080/"
        },
        "id": "mJRQ6TGkoQg8",
        "outputId": "392d6306-0e67-4fed-ce0b-fe7ad989103a"
      },
      "execution_count": null,
      "outputs": [
        {
          "output_type": "stream",
          "name": "stdout",
          "text": [
            "[0 0 1 0 1 1 1 0 1 1 0 1 1 0]\n",
            "[0 0 1 0 1 1 1 0 1 1 0 1 1 0]\n"
          ]
        }
      ]
    },
    {
      "cell_type": "markdown",
      "source": [
        "### 고찰\n",
        "\n",
        "predict() 메서드의 출력 결과가 test_target의 출력과 동일하게 array()로 감싸 있는 것을 확인할 수 있다. 넘파이 배열을 의미하며 predict()가 반환하는 값은 파이썬 리스트가 아닌, 넘파이 배열이다.\n",
        "\n",
        "**이 절에서는 넘파이의 shuffle() 함수를 사용해 배열의 인덱스를 섞어 골고루 훈련과 테스트 세트로 나누어 학습을 하였다.**"
      ],
      "metadata": {
        "id": "ywx7fDpHogsx"
      }
    }
  ]
}